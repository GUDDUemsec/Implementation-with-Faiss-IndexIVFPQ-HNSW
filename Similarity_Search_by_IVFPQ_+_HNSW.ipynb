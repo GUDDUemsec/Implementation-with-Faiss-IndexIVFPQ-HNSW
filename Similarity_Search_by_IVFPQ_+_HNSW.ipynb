{
  "nbformat": 4,
  "nbformat_minor": 0,
  "metadata": {
    "colab": {
      "provenance": [],
      "authorship_tag": "ABX9TyOTgfbGNLu3v2J4LyaWmabx",
      "include_colab_link": true
    },
    "kernelspec": {
      "name": "python3",
      "display_name": "Python 3"
    },
    "language_info": {
      "name": "python"
    },
    "widgets": {
      "application/vnd.jupyter.widget-state+json": {
        "81c433c4235a4dbfb936e6f49ab3dd75": {
          "model_module": "@jupyter-widgets/controls",
          "model_name": "HBoxModel",
          "model_module_version": "1.5.0",
          "state": {
            "_dom_classes": [],
            "_model_module": "@jupyter-widgets/controls",
            "_model_module_version": "1.5.0",
            "_model_name": "HBoxModel",
            "_view_count": null,
            "_view_module": "@jupyter-widgets/controls",
            "_view_module_version": "1.5.0",
            "_view_name": "HBoxView",
            "box_style": "",
            "children": [
              "IPY_MODEL_de3ff9231336408eb52086fb4ac3e438",
              "IPY_MODEL_63229f633ada4567b6c2a53552982b5c",
              "IPY_MODEL_9686652e693f4594b5aa9f214763a6fa"
            ],
            "layout": "IPY_MODEL_8dc8119d53744db293156dea22282b85"
          }
        },
        "de3ff9231336408eb52086fb4ac3e438": {
          "model_module": "@jupyter-widgets/controls",
          "model_name": "HTMLModel",
          "model_module_version": "1.5.0",
          "state": {
            "_dom_classes": [],
            "_model_module": "@jupyter-widgets/controls",
            "_model_module_version": "1.5.0",
            "_model_name": "HTMLModel",
            "_view_count": null,
            "_view_module": "@jupyter-widgets/controls",
            "_view_module_version": "1.5.0",
            "_view_name": "HTMLView",
            "description": "",
            "description_tooltip": null,
            "layout": "IPY_MODEL_bf67e7a7685444cea167faae80ac33bb",
            "placeholder": "​",
            "style": "IPY_MODEL_82bf071b10bc411a809ad6aa1fcae525",
            "value": "100%"
          }
        },
        "63229f633ada4567b6c2a53552982b5c": {
          "model_module": "@jupyter-widgets/controls",
          "model_name": "FloatProgressModel",
          "model_module_version": "1.5.0",
          "state": {
            "_dom_classes": [],
            "_model_module": "@jupyter-widgets/controls",
            "_model_module_version": "1.5.0",
            "_model_name": "FloatProgressModel",
            "_view_count": null,
            "_view_module": "@jupyter-widgets/controls",
            "_view_module_version": "1.5.0",
            "_view_name": "ProgressView",
            "bar_style": "success",
            "description": "",
            "description_tooltip": null,
            "layout": "IPY_MODEL_6995b1cb92e243178f0f78f6fb473d6a",
            "max": 309,
            "min": 0,
            "orientation": "horizontal",
            "style": "IPY_MODEL_7b3fde6231f140729934cb8594f73f18",
            "value": 309
          }
        },
        "9686652e693f4594b5aa9f214763a6fa": {
          "model_module": "@jupyter-widgets/controls",
          "model_name": "HTMLModel",
          "model_module_version": "1.5.0",
          "state": {
            "_dom_classes": [],
            "_model_module": "@jupyter-widgets/controls",
            "_model_module_version": "1.5.0",
            "_model_name": "HTMLModel",
            "_view_count": null,
            "_view_module": "@jupyter-widgets/controls",
            "_view_module_version": "1.5.0",
            "_view_name": "HTMLView",
            "description": "",
            "description_tooltip": null,
            "layout": "IPY_MODEL_6e91d9c843eb44849087a829efc59d1f",
            "placeholder": "​",
            "style": "IPY_MODEL_49a22fff84d04866a67e0e5d2004bb3c",
            "value": " 309/309 [00:00&lt;00:00, 5519.43ex/s]"
          }
        },
        "8dc8119d53744db293156dea22282b85": {
          "model_module": "@jupyter-widgets/base",
          "model_name": "LayoutModel",
          "model_module_version": "1.2.0",
          "state": {
            "_model_module": "@jupyter-widgets/base",
            "_model_module_version": "1.2.0",
            "_model_name": "LayoutModel",
            "_view_count": null,
            "_view_module": "@jupyter-widgets/base",
            "_view_module_version": "1.2.0",
            "_view_name": "LayoutView",
            "align_content": null,
            "align_items": null,
            "align_self": null,
            "border": null,
            "bottom": null,
            "display": null,
            "flex": null,
            "flex_flow": null,
            "grid_area": null,
            "grid_auto_columns": null,
            "grid_auto_flow": null,
            "grid_auto_rows": null,
            "grid_column": null,
            "grid_gap": null,
            "grid_row": null,
            "grid_template_areas": null,
            "grid_template_columns": null,
            "grid_template_rows": null,
            "height": null,
            "justify_content": null,
            "justify_items": null,
            "left": null,
            "margin": null,
            "max_height": null,
            "max_width": null,
            "min_height": null,
            "min_width": null,
            "object_fit": null,
            "object_position": null,
            "order": null,
            "overflow": null,
            "overflow_x": null,
            "overflow_y": null,
            "padding": null,
            "right": null,
            "top": null,
            "visibility": null,
            "width": null
          }
        },
        "bf67e7a7685444cea167faae80ac33bb": {
          "model_module": "@jupyter-widgets/base",
          "model_name": "LayoutModel",
          "model_module_version": "1.2.0",
          "state": {
            "_model_module": "@jupyter-widgets/base",
            "_model_module_version": "1.2.0",
            "_model_name": "LayoutModel",
            "_view_count": null,
            "_view_module": "@jupyter-widgets/base",
            "_view_module_version": "1.2.0",
            "_view_name": "LayoutView",
            "align_content": null,
            "align_items": null,
            "align_self": null,
            "border": null,
            "bottom": null,
            "display": null,
            "flex": null,
            "flex_flow": null,
            "grid_area": null,
            "grid_auto_columns": null,
            "grid_auto_flow": null,
            "grid_auto_rows": null,
            "grid_column": null,
            "grid_gap": null,
            "grid_row": null,
            "grid_template_areas": null,
            "grid_template_columns": null,
            "grid_template_rows": null,
            "height": null,
            "justify_content": null,
            "justify_items": null,
            "left": null,
            "margin": null,
            "max_height": null,
            "max_width": null,
            "min_height": null,
            "min_width": null,
            "object_fit": null,
            "object_position": null,
            "order": null,
            "overflow": null,
            "overflow_x": null,
            "overflow_y": null,
            "padding": null,
            "right": null,
            "top": null,
            "visibility": null,
            "width": null
          }
        },
        "82bf071b10bc411a809ad6aa1fcae525": {
          "model_module": "@jupyter-widgets/controls",
          "model_name": "DescriptionStyleModel",
          "model_module_version": "1.5.0",
          "state": {
            "_model_module": "@jupyter-widgets/controls",
            "_model_module_version": "1.5.0",
            "_model_name": "DescriptionStyleModel",
            "_view_count": null,
            "_view_module": "@jupyter-widgets/base",
            "_view_module_version": "1.2.0",
            "_view_name": "StyleView",
            "description_width": ""
          }
        },
        "6995b1cb92e243178f0f78f6fb473d6a": {
          "model_module": "@jupyter-widgets/base",
          "model_name": "LayoutModel",
          "model_module_version": "1.2.0",
          "state": {
            "_model_module": "@jupyter-widgets/base",
            "_model_module_version": "1.2.0",
            "_model_name": "LayoutModel",
            "_view_count": null,
            "_view_module": "@jupyter-widgets/base",
            "_view_module_version": "1.2.0",
            "_view_name": "LayoutView",
            "align_content": null,
            "align_items": null,
            "align_self": null,
            "border": null,
            "bottom": null,
            "display": null,
            "flex": null,
            "flex_flow": null,
            "grid_area": null,
            "grid_auto_columns": null,
            "grid_auto_flow": null,
            "grid_auto_rows": null,
            "grid_column": null,
            "grid_gap": null,
            "grid_row": null,
            "grid_template_areas": null,
            "grid_template_columns": null,
            "grid_template_rows": null,
            "height": null,
            "justify_content": null,
            "justify_items": null,
            "left": null,
            "margin": null,
            "max_height": null,
            "max_width": null,
            "min_height": null,
            "min_width": null,
            "object_fit": null,
            "object_position": null,
            "order": null,
            "overflow": null,
            "overflow_x": null,
            "overflow_y": null,
            "padding": null,
            "right": null,
            "top": null,
            "visibility": null,
            "width": null
          }
        },
        "7b3fde6231f140729934cb8594f73f18": {
          "model_module": "@jupyter-widgets/controls",
          "model_name": "ProgressStyleModel",
          "model_module_version": "1.5.0",
          "state": {
            "_model_module": "@jupyter-widgets/controls",
            "_model_module_version": "1.5.0",
            "_model_name": "ProgressStyleModel",
            "_view_count": null,
            "_view_module": "@jupyter-widgets/base",
            "_view_module_version": "1.2.0",
            "_view_name": "StyleView",
            "bar_color": null,
            "description_width": ""
          }
        },
        "6e91d9c843eb44849087a829efc59d1f": {
          "model_module": "@jupyter-widgets/base",
          "model_name": "LayoutModel",
          "model_module_version": "1.2.0",
          "state": {
            "_model_module": "@jupyter-widgets/base",
            "_model_module_version": "1.2.0",
            "_model_name": "LayoutModel",
            "_view_count": null,
            "_view_module": "@jupyter-widgets/base",
            "_view_module_version": "1.2.0",
            "_view_name": "LayoutView",
            "align_content": null,
            "align_items": null,
            "align_self": null,
            "border": null,
            "bottom": null,
            "display": null,
            "flex": null,
            "flex_flow": null,
            "grid_area": null,
            "grid_auto_columns": null,
            "grid_auto_flow": null,
            "grid_auto_rows": null,
            "grid_column": null,
            "grid_gap": null,
            "grid_row": null,
            "grid_template_areas": null,
            "grid_template_columns": null,
            "grid_template_rows": null,
            "height": null,
            "justify_content": null,
            "justify_items": null,
            "left": null,
            "margin": null,
            "max_height": null,
            "max_width": null,
            "min_height": null,
            "min_width": null,
            "object_fit": null,
            "object_position": null,
            "order": null,
            "overflow": null,
            "overflow_x": null,
            "overflow_y": null,
            "padding": null,
            "right": null,
            "top": null,
            "visibility": null,
            "width": null
          }
        },
        "49a22fff84d04866a67e0e5d2004bb3c": {
          "model_module": "@jupyter-widgets/controls",
          "model_name": "DescriptionStyleModel",
          "model_module_version": "1.5.0",
          "state": {
            "_model_module": "@jupyter-widgets/controls",
            "_model_module_version": "1.5.0",
            "_model_name": "DescriptionStyleModel",
            "_view_count": null,
            "_view_module": "@jupyter-widgets/base",
            "_view_module_version": "1.2.0",
            "_view_name": "StyleView",
            "description_width": ""
          }
        },
        "e5b460630e9b4ad3995d629975154efa": {
          "model_module": "@jupyter-widgets/controls",
          "model_name": "HBoxModel",
          "model_module_version": "1.5.0",
          "state": {
            "_dom_classes": [],
            "_model_module": "@jupyter-widgets/controls",
            "_model_module_version": "1.5.0",
            "_model_name": "HBoxModel",
            "_view_count": null,
            "_view_module": "@jupyter-widgets/controls",
            "_view_module_version": "1.5.0",
            "_view_name": "HBoxView",
            "box_style": "",
            "children": [
              "IPY_MODEL_4fadb0d2dd5940ac84ed8b8798d7696d",
              "IPY_MODEL_6ab87b74d14848d4922fe2b19199b6c5",
              "IPY_MODEL_ba6bceea448843da924f8ffcec5c4b50"
            ],
            "layout": "IPY_MODEL_11d8e5d935a641828b92a01e2321ce41"
          }
        },
        "4fadb0d2dd5940ac84ed8b8798d7696d": {
          "model_module": "@jupyter-widgets/controls",
          "model_name": "HTMLModel",
          "model_module_version": "1.5.0",
          "state": {
            "_dom_classes": [],
            "_model_module": "@jupyter-widgets/controls",
            "_model_module_version": "1.5.0",
            "_model_name": "HTMLModel",
            "_view_count": null,
            "_view_module": "@jupyter-widgets/controls",
            "_view_module_version": "1.5.0",
            "_view_name": "HTMLView",
            "description": "",
            "description_tooltip": null,
            "layout": "IPY_MODEL_f34f3c4b74d2462db98fc44621d944eb",
            "placeholder": "​",
            "style": "IPY_MODEL_84dee65712f04e4f97067d5a1fbbed94",
            "value": "100%"
          }
        },
        "6ab87b74d14848d4922fe2b19199b6c5": {
          "model_module": "@jupyter-widgets/controls",
          "model_name": "FloatProgressModel",
          "model_module_version": "1.5.0",
          "state": {
            "_dom_classes": [],
            "_model_module": "@jupyter-widgets/controls",
            "_model_module_version": "1.5.0",
            "_model_name": "FloatProgressModel",
            "_view_count": null,
            "_view_module": "@jupyter-widgets/controls",
            "_view_module_version": "1.5.0",
            "_view_name": "ProgressView",
            "bar_style": "success",
            "description": "",
            "description_tooltip": null,
            "layout": "IPY_MODEL_ece82740bedd41148476c6a7f4716c32",
            "max": 20,
            "min": 0,
            "orientation": "horizontal",
            "style": "IPY_MODEL_bb332136f1844b4180b79c4761fc08c0",
            "value": 20
          }
        },
        "ba6bceea448843da924f8ffcec5c4b50": {
          "model_module": "@jupyter-widgets/controls",
          "model_name": "HTMLModel",
          "model_module_version": "1.5.0",
          "state": {
            "_dom_classes": [],
            "_model_module": "@jupyter-widgets/controls",
            "_model_module_version": "1.5.0",
            "_model_name": "HTMLModel",
            "_view_count": null,
            "_view_module": "@jupyter-widgets/controls",
            "_view_module_version": "1.5.0",
            "_view_name": "HTMLView",
            "description": "",
            "description_tooltip": null,
            "layout": "IPY_MODEL_52fd0a3e9cab40038fdcd1d44ed0bde3",
            "placeholder": "​",
            "style": "IPY_MODEL_0fd6eb54f672466bb7addd259475137a",
            "value": " 20/20 [00:09&lt;00:00,  3.31ex/s]"
          }
        },
        "11d8e5d935a641828b92a01e2321ce41": {
          "model_module": "@jupyter-widgets/base",
          "model_name": "LayoutModel",
          "model_module_version": "1.2.0",
          "state": {
            "_model_module": "@jupyter-widgets/base",
            "_model_module_version": "1.2.0",
            "_model_name": "LayoutModel",
            "_view_count": null,
            "_view_module": "@jupyter-widgets/base",
            "_view_module_version": "1.2.0",
            "_view_name": "LayoutView",
            "align_content": null,
            "align_items": null,
            "align_self": null,
            "border": null,
            "bottom": null,
            "display": null,
            "flex": null,
            "flex_flow": null,
            "grid_area": null,
            "grid_auto_columns": null,
            "grid_auto_flow": null,
            "grid_auto_rows": null,
            "grid_column": null,
            "grid_gap": null,
            "grid_row": null,
            "grid_template_areas": null,
            "grid_template_columns": null,
            "grid_template_rows": null,
            "height": null,
            "justify_content": null,
            "justify_items": null,
            "left": null,
            "margin": null,
            "max_height": null,
            "max_width": null,
            "min_height": null,
            "min_width": null,
            "object_fit": null,
            "object_position": null,
            "order": null,
            "overflow": null,
            "overflow_x": null,
            "overflow_y": null,
            "padding": null,
            "right": null,
            "top": null,
            "visibility": null,
            "width": null
          }
        },
        "f34f3c4b74d2462db98fc44621d944eb": {
          "model_module": "@jupyter-widgets/base",
          "model_name": "LayoutModel",
          "model_module_version": "1.2.0",
          "state": {
            "_model_module": "@jupyter-widgets/base",
            "_model_module_version": "1.2.0",
            "_model_name": "LayoutModel",
            "_view_count": null,
            "_view_module": "@jupyter-widgets/base",
            "_view_module_version": "1.2.0",
            "_view_name": "LayoutView",
            "align_content": null,
            "align_items": null,
            "align_self": null,
            "border": null,
            "bottom": null,
            "display": null,
            "flex": null,
            "flex_flow": null,
            "grid_area": null,
            "grid_auto_columns": null,
            "grid_auto_flow": null,
            "grid_auto_rows": null,
            "grid_column": null,
            "grid_gap": null,
            "grid_row": null,
            "grid_template_areas": null,
            "grid_template_columns": null,
            "grid_template_rows": null,
            "height": null,
            "justify_content": null,
            "justify_items": null,
            "left": null,
            "margin": null,
            "max_height": null,
            "max_width": null,
            "min_height": null,
            "min_width": null,
            "object_fit": null,
            "object_position": null,
            "order": null,
            "overflow": null,
            "overflow_x": null,
            "overflow_y": null,
            "padding": null,
            "right": null,
            "top": null,
            "visibility": null,
            "width": null
          }
        },
        "84dee65712f04e4f97067d5a1fbbed94": {
          "model_module": "@jupyter-widgets/controls",
          "model_name": "DescriptionStyleModel",
          "model_module_version": "1.5.0",
          "state": {
            "_model_module": "@jupyter-widgets/controls",
            "_model_module_version": "1.5.0",
            "_model_name": "DescriptionStyleModel",
            "_view_count": null,
            "_view_module": "@jupyter-widgets/base",
            "_view_module_version": "1.2.0",
            "_view_name": "StyleView",
            "description_width": ""
          }
        },
        "ece82740bedd41148476c6a7f4716c32": {
          "model_module": "@jupyter-widgets/base",
          "model_name": "LayoutModel",
          "model_module_version": "1.2.0",
          "state": {
            "_model_module": "@jupyter-widgets/base",
            "_model_module_version": "1.2.0",
            "_model_name": "LayoutModel",
            "_view_count": null,
            "_view_module": "@jupyter-widgets/base",
            "_view_module_version": "1.2.0",
            "_view_name": "LayoutView",
            "align_content": null,
            "align_items": null,
            "align_self": null,
            "border": null,
            "bottom": null,
            "display": null,
            "flex": null,
            "flex_flow": null,
            "grid_area": null,
            "grid_auto_columns": null,
            "grid_auto_flow": null,
            "grid_auto_rows": null,
            "grid_column": null,
            "grid_gap": null,
            "grid_row": null,
            "grid_template_areas": null,
            "grid_template_columns": null,
            "grid_template_rows": null,
            "height": null,
            "justify_content": null,
            "justify_items": null,
            "left": null,
            "margin": null,
            "max_height": null,
            "max_width": null,
            "min_height": null,
            "min_width": null,
            "object_fit": null,
            "object_position": null,
            "order": null,
            "overflow": null,
            "overflow_x": null,
            "overflow_y": null,
            "padding": null,
            "right": null,
            "top": null,
            "visibility": null,
            "width": null
          }
        },
        "bb332136f1844b4180b79c4761fc08c0": {
          "model_module": "@jupyter-widgets/controls",
          "model_name": "ProgressStyleModel",
          "model_module_version": "1.5.0",
          "state": {
            "_model_module": "@jupyter-widgets/controls",
            "_model_module_version": "1.5.0",
            "_model_name": "ProgressStyleModel",
            "_view_count": null,
            "_view_module": "@jupyter-widgets/base",
            "_view_module_version": "1.2.0",
            "_view_name": "StyleView",
            "bar_color": null,
            "description_width": ""
          }
        },
        "52fd0a3e9cab40038fdcd1d44ed0bde3": {
          "model_module": "@jupyter-widgets/base",
          "model_name": "LayoutModel",
          "model_module_version": "1.2.0",
          "state": {
            "_model_module": "@jupyter-widgets/base",
            "_model_module_version": "1.2.0",
            "_model_name": "LayoutModel",
            "_view_count": null,
            "_view_module": "@jupyter-widgets/base",
            "_view_module_version": "1.2.0",
            "_view_name": "LayoutView",
            "align_content": null,
            "align_items": null,
            "align_self": null,
            "border": null,
            "bottom": null,
            "display": null,
            "flex": null,
            "flex_flow": null,
            "grid_area": null,
            "grid_auto_columns": null,
            "grid_auto_flow": null,
            "grid_auto_rows": null,
            "grid_column": null,
            "grid_gap": null,
            "grid_row": null,
            "grid_template_areas": null,
            "grid_template_columns": null,
            "grid_template_rows": null,
            "height": null,
            "justify_content": null,
            "justify_items": null,
            "left": null,
            "margin": null,
            "max_height": null,
            "max_width": null,
            "min_height": null,
            "min_width": null,
            "object_fit": null,
            "object_position": null,
            "order": null,
            "overflow": null,
            "overflow_x": null,
            "overflow_y": null,
            "padding": null,
            "right": null,
            "top": null,
            "visibility": null,
            "width": null
          }
        },
        "0fd6eb54f672466bb7addd259475137a": {
          "model_module": "@jupyter-widgets/controls",
          "model_name": "DescriptionStyleModel",
          "model_module_version": "1.5.0",
          "state": {
            "_model_module": "@jupyter-widgets/controls",
            "_model_module_version": "1.5.0",
            "_model_name": "DescriptionStyleModel",
            "_view_count": null,
            "_view_module": "@jupyter-widgets/base",
            "_view_module_version": "1.2.0",
            "_view_name": "StyleView",
            "description_width": ""
          }
        },
        "1b6777cdb68843bc9368831216427a8c": {
          "model_module": "@jupyter-widgets/controls",
          "model_name": "HBoxModel",
          "model_module_version": "1.5.0",
          "state": {
            "_dom_classes": [],
            "_model_module": "@jupyter-widgets/controls",
            "_model_module_version": "1.5.0",
            "_model_name": "HBoxModel",
            "_view_count": null,
            "_view_module": "@jupyter-widgets/controls",
            "_view_module_version": "1.5.0",
            "_view_name": "HBoxView",
            "box_style": "",
            "children": [
              "IPY_MODEL_7b89098012f943d6aec43e04e96f2f68",
              "IPY_MODEL_2a73fed3b4714a7db0011f06b2a09853",
              "IPY_MODEL_f4ce3dd5d48a443681c7fdddd0ab3bae"
            ],
            "layout": "IPY_MODEL_40ea3f3fe0b042f38188860cc485d1e8"
          }
        },
        "7b89098012f943d6aec43e04e96f2f68": {
          "model_module": "@jupyter-widgets/controls",
          "model_name": "HTMLModel",
          "model_module_version": "1.5.0",
          "state": {
            "_dom_classes": [],
            "_model_module": "@jupyter-widgets/controls",
            "_model_module_version": "1.5.0",
            "_model_name": "HTMLModel",
            "_view_count": null,
            "_view_module": "@jupyter-widgets/controls",
            "_view_module_version": "1.5.0",
            "_view_name": "HTMLView",
            "description": "",
            "description_tooltip": null,
            "layout": "IPY_MODEL_56c01d2de66944d785094fb58873d5d3",
            "placeholder": "​",
            "style": "IPY_MODEL_6ba834b77f0c4b09a07f164b78edfd6f",
            "value": "100%"
          }
        },
        "2a73fed3b4714a7db0011f06b2a09853": {
          "model_module": "@jupyter-widgets/controls",
          "model_name": "FloatProgressModel",
          "model_module_version": "1.5.0",
          "state": {
            "_dom_classes": [],
            "_model_module": "@jupyter-widgets/controls",
            "_model_module_version": "1.5.0",
            "_model_name": "FloatProgressModel",
            "_view_count": null,
            "_view_module": "@jupyter-widgets/controls",
            "_view_module_version": "1.5.0",
            "_view_name": "ProgressView",
            "bar_style": "success",
            "description": "",
            "description_tooltip": null,
            "layout": "IPY_MODEL_2e397ac384734f72a73ccfdbd871cf0f",
            "max": 1,
            "min": 0,
            "orientation": "horizontal",
            "style": "IPY_MODEL_d951b92ee9554310b7c999f2695cbab4",
            "value": 1
          }
        },
        "f4ce3dd5d48a443681c7fdddd0ab3bae": {
          "model_module": "@jupyter-widgets/controls",
          "model_name": "HTMLModel",
          "model_module_version": "1.5.0",
          "state": {
            "_dom_classes": [],
            "_model_module": "@jupyter-widgets/controls",
            "_model_module_version": "1.5.0",
            "_model_name": "HTMLModel",
            "_view_count": null,
            "_view_module": "@jupyter-widgets/controls",
            "_view_module_version": "1.5.0",
            "_view_name": "HTMLView",
            "description": "",
            "description_tooltip": null,
            "layout": "IPY_MODEL_f083353c084843d09aad9578a93b4232",
            "placeholder": "​",
            "style": "IPY_MODEL_a72a45f4fe424be1934e835afadbda8a",
            "value": " 1/1 [00:00&lt;00:00, 38.57it/s]"
          }
        },
        "40ea3f3fe0b042f38188860cc485d1e8": {
          "model_module": "@jupyter-widgets/base",
          "model_name": "LayoutModel",
          "model_module_version": "1.2.0",
          "state": {
            "_model_module": "@jupyter-widgets/base",
            "_model_module_version": "1.2.0",
            "_model_name": "LayoutModel",
            "_view_count": null,
            "_view_module": "@jupyter-widgets/base",
            "_view_module_version": "1.2.0",
            "_view_name": "LayoutView",
            "align_content": null,
            "align_items": null,
            "align_self": null,
            "border": null,
            "bottom": null,
            "display": null,
            "flex": null,
            "flex_flow": null,
            "grid_area": null,
            "grid_auto_columns": null,
            "grid_auto_flow": null,
            "grid_auto_rows": null,
            "grid_column": null,
            "grid_gap": null,
            "grid_row": null,
            "grid_template_areas": null,
            "grid_template_columns": null,
            "grid_template_rows": null,
            "height": null,
            "justify_content": null,
            "justify_items": null,
            "left": null,
            "margin": null,
            "max_height": null,
            "max_width": null,
            "min_height": null,
            "min_width": null,
            "object_fit": null,
            "object_position": null,
            "order": null,
            "overflow": null,
            "overflow_x": null,
            "overflow_y": null,
            "padding": null,
            "right": null,
            "top": null,
            "visibility": null,
            "width": null
          }
        },
        "56c01d2de66944d785094fb58873d5d3": {
          "model_module": "@jupyter-widgets/base",
          "model_name": "LayoutModel",
          "model_module_version": "1.2.0",
          "state": {
            "_model_module": "@jupyter-widgets/base",
            "_model_module_version": "1.2.0",
            "_model_name": "LayoutModel",
            "_view_count": null,
            "_view_module": "@jupyter-widgets/base",
            "_view_module_version": "1.2.0",
            "_view_name": "LayoutView",
            "align_content": null,
            "align_items": null,
            "align_self": null,
            "border": null,
            "bottom": null,
            "display": null,
            "flex": null,
            "flex_flow": null,
            "grid_area": null,
            "grid_auto_columns": null,
            "grid_auto_flow": null,
            "grid_auto_rows": null,
            "grid_column": null,
            "grid_gap": null,
            "grid_row": null,
            "grid_template_areas": null,
            "grid_template_columns": null,
            "grid_template_rows": null,
            "height": null,
            "justify_content": null,
            "justify_items": null,
            "left": null,
            "margin": null,
            "max_height": null,
            "max_width": null,
            "min_height": null,
            "min_width": null,
            "object_fit": null,
            "object_position": null,
            "order": null,
            "overflow": null,
            "overflow_x": null,
            "overflow_y": null,
            "padding": null,
            "right": null,
            "top": null,
            "visibility": null,
            "width": null
          }
        },
        "6ba834b77f0c4b09a07f164b78edfd6f": {
          "model_module": "@jupyter-widgets/controls",
          "model_name": "DescriptionStyleModel",
          "model_module_version": "1.5.0",
          "state": {
            "_model_module": "@jupyter-widgets/controls",
            "_model_module_version": "1.5.0",
            "_model_name": "DescriptionStyleModel",
            "_view_count": null,
            "_view_module": "@jupyter-widgets/base",
            "_view_module_version": "1.2.0",
            "_view_name": "StyleView",
            "description_width": ""
          }
        },
        "2e397ac384734f72a73ccfdbd871cf0f": {
          "model_module": "@jupyter-widgets/base",
          "model_name": "LayoutModel",
          "model_module_version": "1.2.0",
          "state": {
            "_model_module": "@jupyter-widgets/base",
            "_model_module_version": "1.2.0",
            "_model_name": "LayoutModel",
            "_view_count": null,
            "_view_module": "@jupyter-widgets/base",
            "_view_module_version": "1.2.0",
            "_view_name": "LayoutView",
            "align_content": null,
            "align_items": null,
            "align_self": null,
            "border": null,
            "bottom": null,
            "display": null,
            "flex": null,
            "flex_flow": null,
            "grid_area": null,
            "grid_auto_columns": null,
            "grid_auto_flow": null,
            "grid_auto_rows": null,
            "grid_column": null,
            "grid_gap": null,
            "grid_row": null,
            "grid_template_areas": null,
            "grid_template_columns": null,
            "grid_template_rows": null,
            "height": null,
            "justify_content": null,
            "justify_items": null,
            "left": null,
            "margin": null,
            "max_height": null,
            "max_width": null,
            "min_height": null,
            "min_width": null,
            "object_fit": null,
            "object_position": null,
            "order": null,
            "overflow": null,
            "overflow_x": null,
            "overflow_y": null,
            "padding": null,
            "right": null,
            "top": null,
            "visibility": null,
            "width": null
          }
        },
        "d951b92ee9554310b7c999f2695cbab4": {
          "model_module": "@jupyter-widgets/controls",
          "model_name": "ProgressStyleModel",
          "model_module_version": "1.5.0",
          "state": {
            "_model_module": "@jupyter-widgets/controls",
            "_model_module_version": "1.5.0",
            "_model_name": "ProgressStyleModel",
            "_view_count": null,
            "_view_module": "@jupyter-widgets/base",
            "_view_module_version": "1.2.0",
            "_view_name": "StyleView",
            "bar_color": null,
            "description_width": ""
          }
        },
        "f083353c084843d09aad9578a93b4232": {
          "model_module": "@jupyter-widgets/base",
          "model_name": "LayoutModel",
          "model_module_version": "1.2.0",
          "state": {
            "_model_module": "@jupyter-widgets/base",
            "_model_module_version": "1.2.0",
            "_model_name": "LayoutModel",
            "_view_count": null,
            "_view_module": "@jupyter-widgets/base",
            "_view_module_version": "1.2.0",
            "_view_name": "LayoutView",
            "align_content": null,
            "align_items": null,
            "align_self": null,
            "border": null,
            "bottom": null,
            "display": null,
            "flex": null,
            "flex_flow": null,
            "grid_area": null,
            "grid_auto_columns": null,
            "grid_auto_flow": null,
            "grid_auto_rows": null,
            "grid_column": null,
            "grid_gap": null,
            "grid_row": null,
            "grid_template_areas": null,
            "grid_template_columns": null,
            "grid_template_rows": null,
            "height": null,
            "justify_content": null,
            "justify_items": null,
            "left": null,
            "margin": null,
            "max_height": null,
            "max_width": null,
            "min_height": null,
            "min_width": null,
            "object_fit": null,
            "object_position": null,
            "order": null,
            "overflow": null,
            "overflow_x": null,
            "overflow_y": null,
            "padding": null,
            "right": null,
            "top": null,
            "visibility": null,
            "width": null
          }
        },
        "a72a45f4fe424be1934e835afadbda8a": {
          "model_module": "@jupyter-widgets/controls",
          "model_name": "DescriptionStyleModel",
          "model_module_version": "1.5.0",
          "state": {
            "_model_module": "@jupyter-widgets/controls",
            "_model_module_version": "1.5.0",
            "_model_name": "DescriptionStyleModel",
            "_view_count": null,
            "_view_module": "@jupyter-widgets/base",
            "_view_module_version": "1.2.0",
            "_view_name": "StyleView",
            "description_width": ""
          }
        }
      }
    }
  },
  "cells": [
    {
      "cell_type": "markdown",
      "metadata": {
        "id": "view-in-github",
        "colab_type": "text"
      },
      "source": [
        "<a href=\"https://colab.research.google.com/github/GUDDUemsec/Implementation-with-Faiss-IndexIVFPQ-HNSW/blob/main/Similarity_Search_by_IVFPQ_%2B_HNSW.ipynb\" target=\"_parent\"><img src=\"https://colab.research.google.com/assets/colab-badge.svg\" alt=\"Open In Colab\"/></a>"
      ]
    },
    {
      "cell_type": "code",
      "execution_count": 3,
      "metadata": {
        "colab": {
          "base_uri": "https://localhost:8080/"
        },
        "id": "qP2xBLGOBliw",
        "outputId": "4855c52e-0b09-46e3-db80-8f07d4f9c7c3"
      },
      "outputs": [
        {
          "output_type": "stream",
          "name": "stdout",
          "text": [
            "Looking in indexes: https://pypi.org/simple, https://us-python.pkg.dev/colab-wheels/public/simple/\n",
            "Requirement already satisfied: transformers in /usr/local/lib/python3.8/dist-packages (4.25.1)\n",
            "Requirement already satisfied: numpy>=1.17 in /usr/local/lib/python3.8/dist-packages (from transformers) (1.21.6)\n",
            "Requirement already satisfied: huggingface-hub<1.0,>=0.10.0 in /usr/local/lib/python3.8/dist-packages (from transformers) (0.11.1)\n",
            "Requirement already satisfied: packaging>=20.0 in /usr/local/lib/python3.8/dist-packages (from transformers) (21.3)\n",
            "Requirement already satisfied: tokenizers!=0.11.3,<0.14,>=0.11.1 in /usr/local/lib/python3.8/dist-packages (from transformers) (0.13.2)\n",
            "Requirement already satisfied: filelock in /usr/local/lib/python3.8/dist-packages (from transformers) (3.8.2)\n",
            "Requirement already satisfied: requests in /usr/local/lib/python3.8/dist-packages (from transformers) (2.23.0)\n",
            "Requirement already satisfied: tqdm>=4.27 in /usr/local/lib/python3.8/dist-packages (from transformers) (4.64.1)\n",
            "Requirement already satisfied: regex!=2019.12.17 in /usr/local/lib/python3.8/dist-packages (from transformers) (2022.6.2)\n",
            "Requirement already satisfied: pyyaml>=5.1 in /usr/local/lib/python3.8/dist-packages (from transformers) (6.0)\n",
            "Requirement already satisfied: typing-extensions>=3.7.4.3 in /usr/local/lib/python3.8/dist-packages (from huggingface-hub<1.0,>=0.10.0->transformers) (4.4.0)\n",
            "Requirement already satisfied: pyparsing!=3.0.5,>=2.0.2 in /usr/local/lib/python3.8/dist-packages (from packaging>=20.0->transformers) (3.0.9)\n",
            "Requirement already satisfied: certifi>=2017.4.17 in /usr/local/lib/python3.8/dist-packages (from requests->transformers) (2022.12.7)\n",
            "Requirement already satisfied: chardet<4,>=3.0.2 in /usr/local/lib/python3.8/dist-packages (from requests->transformers) (3.0.4)\n",
            "Requirement already satisfied: idna<3,>=2.5 in /usr/local/lib/python3.8/dist-packages (from requests->transformers) (2.10)\n",
            "Requirement already satisfied: urllib3!=1.25.0,!=1.25.1,<1.26,>=1.21.1 in /usr/local/lib/python3.8/dist-packages (from requests->transformers) (1.25.11)\n"
          ]
        }
      ],
      "source": [
        "!pip install transformers"
      ]
    },
    {
      "cell_type": "code",
      "source": [
        "from transformers import AutoTokenizer, TFAutoModel\n",
        "import pandas as pd\n",
        "import numpy as nv"
      ],
      "metadata": {
        "id": "51u20oupB-dI"
      },
      "execution_count": 2,
      "outputs": []
    },
    {
      "cell_type": "code",
      "source": [
        "file_data=pd.read_csv('/content/medium_Data.csv.xls')\n",
        "file_data.shape\n",
        "file_data"
      ],
      "metadata": {
        "colab": {
          "base_uri": "https://localhost:8080/",
          "height": 424
        },
        "id": "RDVxzo2cCHVa",
        "outputId": "96a3e4a5-2c0e-4dc6-8614-3c24b07cc140"
      },
      "execution_count": 4,
      "outputs": [
        {
          "output_type": "execute_result",
          "data": {
            "text/plain": [
              "                                                Titles            Authors  \\\n",
              "0    Please Consider the Racial Impact of Your Hall...       Savala Nolan   \n",
              "1    That Time We Burned Down Players’ Houses in Ul...         Tim Cotten   \n",
              "2    The Wonderful Outcome of the Ice Bucket Challenge        Jamie Cohen   \n",
              "3              Why Should You Care About the Bar Exam?          Dan Canon   \n",
              "4        Please Don’t Tell My Daughter She’s Beautiful      Kerala Taylor   \n",
              "..                                                 ...                ...   \n",
              "304   How I Kept My Sense of Humor Through Vision Loss       Nancy Solari   \n",
              "305  The true scientific meaning of Mercury enterin...       Ethan Siegel   \n",
              "306  The Feelings Monster, building a character wit...   Microsoft Design   \n",
              "307  Feeling Overwhelmed? You Need an MVD—That’s Mi...  Rebecca Pendleton   \n",
              "308        Type Casting — or: The Comic Sans of Errors       Boris Müller   \n",
              "\n",
              "            Dates                                              Links  \\\n",
              "0          Oct 17  https://momentum.medium.com/i-beg-you-consider...   \n",
              "1           Oct 3  https://blog.cotten.io/that-time-we-burned-dow...   \n",
              "2          Sep 30  https://newanddigital.medium.com/the-long-payo...   \n",
              "3          Sep 27  https://medium.com/i-taught-the-law/why-should...   \n",
              "4          Oct 11  https://keralataylor.medium.com/please-dont-te...   \n",
              "..            ...                                                ...   \n",
              "304        Sep 15  https://betterhumans.pub/how-i-kept-my-sense-o...   \n",
              "305        Sep 15  https://medium.com/starts-with-a-bang/the-true...   \n",
              "306         Sep 6  https://medium.com/microsoft-design/the-feelin...   \n",
              "307  May 27, 2021  https://index.medium.com/feeling-overwhelmed-y...   \n",
              "308   Mar 9, 2019  https://borism.medium.com/type-casting-or-the-...   \n",
              "\n",
              "                                              Contents  \n",
              "0    Oh, it’s that time of year again! So here is a...  \n",
              "1    Ultima Online is celebrating its 25th annivers...  \n",
              "2    The water had to be ice cold and you had to be...  \n",
              "3    You didn’t take the bar exam. That’s probably ...  \n",
              "4    I have two beautiful children.I might be biase...  \n",
              "..                                                 ...  \n",
              "304  My diagnosis of retinitis pigmentosa at age 16...  \n",
              "305  Throughout almost all of the year, you can see...  \n",
              "306  On designing for mental health and the power o...  \n",
              "307  I’\\nm a product director at a corporate financ...  \n",
              "308  A\\ncommon question in my first-year design sem...  \n",
              "\n",
              "[309 rows x 5 columns]"
            ],
            "text/html": [
              "\n",
              "  <div id=\"df-ebca19b4-9a58-44c2-b890-f8d4419fd791\">\n",
              "    <div class=\"colab-df-container\">\n",
              "      <div>\n",
              "<style scoped>\n",
              "    .dataframe tbody tr th:only-of-type {\n",
              "        vertical-align: middle;\n",
              "    }\n",
              "\n",
              "    .dataframe tbody tr th {\n",
              "        vertical-align: top;\n",
              "    }\n",
              "\n",
              "    .dataframe thead th {\n",
              "        text-align: right;\n",
              "    }\n",
              "</style>\n",
              "<table border=\"1\" class=\"dataframe\">\n",
              "  <thead>\n",
              "    <tr style=\"text-align: right;\">\n",
              "      <th></th>\n",
              "      <th>Titles</th>\n",
              "      <th>Authors</th>\n",
              "      <th>Dates</th>\n",
              "      <th>Links</th>\n",
              "      <th>Contents</th>\n",
              "    </tr>\n",
              "  </thead>\n",
              "  <tbody>\n",
              "    <tr>\n",
              "      <th>0</th>\n",
              "      <td>Please Consider the Racial Impact of Your Hall...</td>\n",
              "      <td>Savala Nolan</td>\n",
              "      <td>Oct 17</td>\n",
              "      <td>https://momentum.medium.com/i-beg-you-consider...</td>\n",
              "      <td>Oh, it’s that time of year again! So here is a...</td>\n",
              "    </tr>\n",
              "    <tr>\n",
              "      <th>1</th>\n",
              "      <td>That Time We Burned Down Players’ Houses in Ul...</td>\n",
              "      <td>Tim Cotten</td>\n",
              "      <td>Oct 3</td>\n",
              "      <td>https://blog.cotten.io/that-time-we-burned-dow...</td>\n",
              "      <td>Ultima Online is celebrating its 25th annivers...</td>\n",
              "    </tr>\n",
              "    <tr>\n",
              "      <th>2</th>\n",
              "      <td>The Wonderful Outcome of the Ice Bucket Challenge</td>\n",
              "      <td>Jamie Cohen</td>\n",
              "      <td>Sep 30</td>\n",
              "      <td>https://newanddigital.medium.com/the-long-payo...</td>\n",
              "      <td>The water had to be ice cold and you had to be...</td>\n",
              "    </tr>\n",
              "    <tr>\n",
              "      <th>3</th>\n",
              "      <td>Why Should You Care About the Bar Exam?</td>\n",
              "      <td>Dan Canon</td>\n",
              "      <td>Sep 27</td>\n",
              "      <td>https://medium.com/i-taught-the-law/why-should...</td>\n",
              "      <td>You didn’t take the bar exam. That’s probably ...</td>\n",
              "    </tr>\n",
              "    <tr>\n",
              "      <th>4</th>\n",
              "      <td>Please Don’t Tell My Daughter She’s Beautiful</td>\n",
              "      <td>Kerala Taylor</td>\n",
              "      <td>Oct 11</td>\n",
              "      <td>https://keralataylor.medium.com/please-dont-te...</td>\n",
              "      <td>I have two beautiful children.I might be biase...</td>\n",
              "    </tr>\n",
              "    <tr>\n",
              "      <th>...</th>\n",
              "      <td>...</td>\n",
              "      <td>...</td>\n",
              "      <td>...</td>\n",
              "      <td>...</td>\n",
              "      <td>...</td>\n",
              "    </tr>\n",
              "    <tr>\n",
              "      <th>304</th>\n",
              "      <td>How I Kept My Sense of Humor Through Vision Loss</td>\n",
              "      <td>Nancy Solari</td>\n",
              "      <td>Sep 15</td>\n",
              "      <td>https://betterhumans.pub/how-i-kept-my-sense-o...</td>\n",
              "      <td>My diagnosis of retinitis pigmentosa at age 16...</td>\n",
              "    </tr>\n",
              "    <tr>\n",
              "      <th>305</th>\n",
              "      <td>The true scientific meaning of Mercury enterin...</td>\n",
              "      <td>Ethan Siegel</td>\n",
              "      <td>Sep 15</td>\n",
              "      <td>https://medium.com/starts-with-a-bang/the-true...</td>\n",
              "      <td>Throughout almost all of the year, you can see...</td>\n",
              "    </tr>\n",
              "    <tr>\n",
              "      <th>306</th>\n",
              "      <td>The Feelings Monster, building a character wit...</td>\n",
              "      <td>Microsoft Design</td>\n",
              "      <td>Sep 6</td>\n",
              "      <td>https://medium.com/microsoft-design/the-feelin...</td>\n",
              "      <td>On designing for mental health and the power o...</td>\n",
              "    </tr>\n",
              "    <tr>\n",
              "      <th>307</th>\n",
              "      <td>Feeling Overwhelmed? You Need an MVD—That’s Mi...</td>\n",
              "      <td>Rebecca Pendleton</td>\n",
              "      <td>May 27, 2021</td>\n",
              "      <td>https://index.medium.com/feeling-overwhelmed-y...</td>\n",
              "      <td>I’\\nm a product director at a corporate financ...</td>\n",
              "    </tr>\n",
              "    <tr>\n",
              "      <th>308</th>\n",
              "      <td>Type Casting — or: The Comic Sans of Errors</td>\n",
              "      <td>Boris Müller</td>\n",
              "      <td>Mar 9, 2019</td>\n",
              "      <td>https://borism.medium.com/type-casting-or-the-...</td>\n",
              "      <td>A\\ncommon question in my first-year design sem...</td>\n",
              "    </tr>\n",
              "  </tbody>\n",
              "</table>\n",
              "<p>309 rows × 5 columns</p>\n",
              "</div>\n",
              "      <button class=\"colab-df-convert\" onclick=\"convertToInteractive('df-ebca19b4-9a58-44c2-b890-f8d4419fd791')\"\n",
              "              title=\"Convert this dataframe to an interactive table.\"\n",
              "              style=\"display:none;\">\n",
              "        \n",
              "  <svg xmlns=\"http://www.w3.org/2000/svg\" height=\"24px\"viewBox=\"0 0 24 24\"\n",
              "       width=\"24px\">\n",
              "    <path d=\"M0 0h24v24H0V0z\" fill=\"none\"/>\n",
              "    <path d=\"M18.56 5.44l.94 2.06.94-2.06 2.06-.94-2.06-.94-.94-2.06-.94 2.06-2.06.94zm-11 1L8.5 8.5l.94-2.06 2.06-.94-2.06-.94L8.5 2.5l-.94 2.06-2.06.94zm10 10l.94 2.06.94-2.06 2.06-.94-2.06-.94-.94-2.06-.94 2.06-2.06.94z\"/><path d=\"M17.41 7.96l-1.37-1.37c-.4-.4-.92-.59-1.43-.59-.52 0-1.04.2-1.43.59L10.3 9.45l-7.72 7.72c-.78.78-.78 2.05 0 2.83L4 21.41c.39.39.9.59 1.41.59.51 0 1.02-.2 1.41-.59l7.78-7.78 2.81-2.81c.8-.78.8-2.07 0-2.86zM5.41 20L4 18.59l7.72-7.72 1.47 1.35L5.41 20z\"/>\n",
              "  </svg>\n",
              "      </button>\n",
              "      \n",
              "  <style>\n",
              "    .colab-df-container {\n",
              "      display:flex;\n",
              "      flex-wrap:wrap;\n",
              "      gap: 12px;\n",
              "    }\n",
              "\n",
              "    .colab-df-convert {\n",
              "      background-color: #E8F0FE;\n",
              "      border: none;\n",
              "      border-radius: 50%;\n",
              "      cursor: pointer;\n",
              "      display: none;\n",
              "      fill: #1967D2;\n",
              "      height: 32px;\n",
              "      padding: 0 0 0 0;\n",
              "      width: 32px;\n",
              "    }\n",
              "\n",
              "    .colab-df-convert:hover {\n",
              "      background-color: #E2EBFA;\n",
              "      box-shadow: 0px 1px 2px rgba(60, 64, 67, 0.3), 0px 1px 3px 1px rgba(60, 64, 67, 0.15);\n",
              "      fill: #174EA6;\n",
              "    }\n",
              "\n",
              "    [theme=dark] .colab-df-convert {\n",
              "      background-color: #3B4455;\n",
              "      fill: #D2E3FC;\n",
              "    }\n",
              "\n",
              "    [theme=dark] .colab-df-convert:hover {\n",
              "      background-color: #434B5C;\n",
              "      box-shadow: 0px 1px 3px 1px rgba(0, 0, 0, 0.15);\n",
              "      filter: drop-shadow(0px 1px 2px rgba(0, 0, 0, 0.3));\n",
              "      fill: #FFFFFF;\n",
              "    }\n",
              "  </style>\n",
              "\n",
              "      <script>\n",
              "        const buttonEl =\n",
              "          document.querySelector('#df-ebca19b4-9a58-44c2-b890-f8d4419fd791 button.colab-df-convert');\n",
              "        buttonEl.style.display =\n",
              "          google.colab.kernel.accessAllowed ? 'block' : 'none';\n",
              "\n",
              "        async function convertToInteractive(key) {\n",
              "          const element = document.querySelector('#df-ebca19b4-9a58-44c2-b890-f8d4419fd791');\n",
              "          const dataTable =\n",
              "            await google.colab.kernel.invokeFunction('convertToInteractive',\n",
              "                                                     [key], {});\n",
              "          if (!dataTable) return;\n",
              "\n",
              "          const docLinkHtml = 'Like what you see? Visit the ' +\n",
              "            '<a target=\"_blank\" href=https://colab.research.google.com/notebooks/data_table.ipynb>data table notebook</a>'\n",
              "            + ' to learn more about interactive tables.';\n",
              "          element.innerHTML = '';\n",
              "          dataTable['output_type'] = 'display_data';\n",
              "          await google.colab.output.renderOutput(dataTable, element);\n",
              "          const docLink = document.createElement('div');\n",
              "          docLink.innerHTML = docLinkHtml;\n",
              "          element.appendChild(docLink);\n",
              "        }\n",
              "      </script>\n",
              "    </div>\n",
              "  </div>\n",
              "  "
            ]
          },
          "metadata": {},
          "execution_count": 4
        }
      ]
    },
    {
      "cell_type": "code",
      "source": [
        "model_ckpt = \"sentence-transformers/multi-qa-mpnet-base-dot-v1\"\n",
        "tokenizer = AutoTokenizer.from_pretrained(model_ckpt)\n",
        "model = TFAutoModel.from_pretrained(model_ckpt, from_pt=True)"
      ],
      "metadata": {
        "colab": {
          "base_uri": "https://localhost:8080/"
        },
        "id": "3orw0s4dGDIu",
        "outputId": "734a9276-088f-4dce-ceca-ffa2e2c44ac8"
      },
      "execution_count": 14,
      "outputs": [
        {
          "output_type": "stream",
          "name": "stderr",
          "text": [
            "Some weights of the PyTorch model were not used when initializing the TF 2.0 model TFMPNetModel: ['embeddings.position_ids']\n",
            "- This IS expected if you are initializing TFMPNetModel from a PyTorch model trained on another task or with another architecture (e.g. initializing a TFBertForSequenceClassification model from a BertForPreTraining model).\n",
            "- This IS NOT expected if you are initializing TFMPNetModel from a PyTorch model that you expect to be exactly identical (e.g. initializing a TFBertForSequenceClassification model from a BertForSequenceClassification model).\n",
            "All the weights of TFMPNetModel were initialized from the PyTorch model.\n",
            "If your task is similar to the task the model of the checkpoint was trained on, you can already use TFMPNetModel for predictions without further training.\n"
          ]
        }
      ]
    },
    {
      "cell_type": "code",
      "source": [
        "!pip install datasets"
      ],
      "metadata": {
        "id": "-HhjxgR1GQ-s"
      },
      "execution_count": null,
      "outputs": []
    },
    {
      "cell_type": "code",
      "source": [
        "!pip install faiss-cpu\n"
      ],
      "metadata": {
        "colab": {
          "base_uri": "https://localhost:8080/"
        },
        "id": "npq1FUJwGbCg",
        "outputId": "2b889b1f-fbbc-47ee-b742-3de5dae43586"
      },
      "execution_count": 13,
      "outputs": [
        {
          "output_type": "stream",
          "name": "stdout",
          "text": [
            "Looking in indexes: https://pypi.org/simple, https://us-python.pkg.dev/colab-wheels/public/simple/\n",
            "Requirement already satisfied: faiss-cpu in /usr/local/lib/python3.8/dist-packages (1.7.3)\n"
          ]
        }
      ]
    },
    {
      "cell_type": "code",
      "source": [
        "from datasets import Dataset\n",
        "\n",
        "file_dataset = Dataset.from_pandas(file_data)\n",
        "file_dataset"
      ],
      "metadata": {
        "colab": {
          "base_uri": "https://localhost:8080/"
        },
        "id": "Vu4UdtfXGjoN",
        "outputId": "7db053cf-b30c-4bdb-f491-eed88d2e7700"
      },
      "execution_count": 5,
      "outputs": [
        {
          "output_type": "execute_result",
          "data": {
            "text/plain": [
              "Dataset({\n",
              "    features: ['Titles', 'Authors', 'Dates', 'Links', 'Contents'],\n",
              "    num_rows: 309\n",
              "})"
            ]
          },
          "metadata": {},
          "execution_count": 5
        }
      ]
    },
    {
      "cell_type": "code",
      "source": [
        "def concatenate_text(examples):\n",
        "    return {\n",
        "        \"text\": examples[\"Titles\"]\n",
        "        }\n",
        "\n",
        "\n",
        "file_dataset = file_dataset.map(concatenate_text)\n",
        "file_dataset"
      ],
      "metadata": {
        "colab": {
          "base_uri": "https://localhost:8080/",
          "height": 118,
          "referenced_widgets": [
            "81c433c4235a4dbfb936e6f49ab3dd75",
            "de3ff9231336408eb52086fb4ac3e438",
            "63229f633ada4567b6c2a53552982b5c",
            "9686652e693f4594b5aa9f214763a6fa",
            "8dc8119d53744db293156dea22282b85",
            "bf67e7a7685444cea167faae80ac33bb",
            "82bf071b10bc411a809ad6aa1fcae525",
            "6995b1cb92e243178f0f78f6fb473d6a",
            "7b3fde6231f140729934cb8594f73f18",
            "6e91d9c843eb44849087a829efc59d1f",
            "49a22fff84d04866a67e0e5d2004bb3c"
          ]
        },
        "id": "Q4EzoYUSGpxr",
        "outputId": "90195847-609b-41a7-d195-fc929d8ee837"
      },
      "execution_count": 6,
      "outputs": [
        {
          "output_type": "display_data",
          "data": {
            "text/plain": [
              "  0%|          | 0/309 [00:00<?, ?ex/s]"
            ],
            "application/vnd.jupyter.widget-view+json": {
              "version_major": 2,
              "version_minor": 0,
              "model_id": "81c433c4235a4dbfb936e6f49ab3dd75"
            }
          },
          "metadata": {}
        },
        {
          "output_type": "execute_result",
          "data": {
            "text/plain": [
              "Dataset({\n",
              "    features: ['Titles', 'Authors', 'Dates', 'Links', 'Contents', 'text'],\n",
              "    num_rows: 309\n",
              "})"
            ]
          },
          "metadata": {},
          "execution_count": 6
        }
      ]
    },
    {
      "cell_type": "code",
      "source": [
        "def cls_pooling(model_output):\n",
        "    return model_output.last_hidden_state[:, 0]"
      ],
      "metadata": {
        "id": "2TvHnH7AGy_i"
      },
      "execution_count": 7,
      "outputs": []
    },
    {
      "cell_type": "code",
      "source": [
        "def get_embeddings(text_list):\n",
        "    encoded_input = tokenizer(\n",
        "        text_list, padding=True, truncation=True, return_tensors=\"tf\"\n",
        "    )\n",
        "    encoded_input = {k: v for k, v in encoded_input.items()}\n",
        "    model_output = model(**encoded_input)\n",
        "    return cls_pooling(model_output)"
      ],
      "metadata": {
        "id": "05vKsgW_G4A7"
      },
      "execution_count": 15,
      "outputs": []
    },
    {
      "cell_type": "code",
      "source": [
        "embedding = get_embeddings(file_dataset[\"text\"])\n",
        "embedding.shape\n",
        "embedding.numpy()\n"
      ],
      "metadata": {
        "colab": {
          "base_uri": "https://localhost:8080/"
        },
        "id": "jLSZh1sgHAPl",
        "outputId": "b18a0f1d-8923-495e-94e2-b52b33514ecf"
      },
      "execution_count": 16,
      "outputs": [
        {
          "output_type": "execute_result",
          "data": {
            "text/plain": [
              "array([[-0.15904081, -0.02815436, -0.34769472, ..., -0.05652934,\n",
              "        -0.25248185, -0.2042977 ],\n",
              "       [-0.02089706, -0.07984344, -0.30487287, ...,  0.1659936 ,\n",
              "        -0.28794888,  0.14395118],\n",
              "       [ 0.19895144,  0.01414739, -0.44468015, ..., -0.15330131,\n",
              "         0.18584473, -0.1487731 ],\n",
              "       ...,\n",
              "       [-0.07744551, -0.01752464, -0.28358772, ...,  0.07210067,\n",
              "        -0.12631136, -0.14551273],\n",
              "       [-0.26690954, -0.38169014, -0.28832585, ..., -0.19347376,\n",
              "         0.01754411, -0.16607675],\n",
              "       [ 0.07269134, -0.473799  , -0.10616846, ...,  0.03023861,\n",
              "         0.00621269,  0.05653273]], dtype=float32)"
            ]
          },
          "metadata": {},
          "execution_count": 16
        }
      ]
    },
    {
      "cell_type": "code",
      "source": [
        "embeddings_dataset = file_dataset.map(\n",
        "    lambda x: {\"embeddings\": get_embeddings(x[\"text\"]).numpy()[0]}\n",
        ")\n",
        "   "
      ],
      "metadata": {
        "colab": {
          "base_uri": "https://localhost:8080/",
          "height": 86,
          "referenced_widgets": [
            "e5b460630e9b4ad3995d629975154efa",
            "4fadb0d2dd5940ac84ed8b8798d7696d",
            "6ab87b74d14848d4922fe2b19199b6c5",
            "ba6bceea448843da924f8ffcec5c4b50",
            "11d8e5d935a641828b92a01e2321ce41",
            "f34f3c4b74d2462db98fc44621d944eb",
            "84dee65712f04e4f97067d5a1fbbed94",
            "ece82740bedd41148476c6a7f4716c32",
            "bb332136f1844b4180b79c4761fc08c0",
            "52fd0a3e9cab40038fdcd1d44ed0bde3",
            "0fd6eb54f672466bb7addd259475137a"
          ]
        },
        "id": "C3VezKKdHHNl",
        "outputId": "70fcb91a-dc4c-4839-e2ef-d659b515a210"
      },
      "execution_count": 14,
      "outputs": [
        {
          "output_type": "stream",
          "name": "stderr",
          "text": [
            "WARNING:absl:Found untraced functions such as encoder_layer_call_fn, encoder_layer_call_and_return_conditional_losses, pooler_layer_call_fn, pooler_layer_call_and_return_conditional_losses, embeddings_layer_call_fn while saving (showing 5 of 396). These functions will not be directly callable after loading.\n"
          ]
        },
        {
          "output_type": "display_data",
          "data": {
            "text/plain": [
              "  0%|          | 0/20 [00:00<?, ?ex/s]"
            ],
            "application/vnd.jupyter.widget-view+json": {
              "version_major": 2,
              "version_minor": 0,
              "model_id": "e5b460630e9b4ad3995d629975154efa"
            }
          },
          "metadata": {}
        }
      ]
    },
    {
      "cell_type": "code",
      "source": [
        "embeddings_dataset.add_faiss_index(column='embeddings')"
      ],
      "metadata": {
        "colab": {
          "base_uri": "https://localhost:8080/",
          "height": 118,
          "referenced_widgets": [
            "1b6777cdb68843bc9368831216427a8c",
            "7b89098012f943d6aec43e04e96f2f68",
            "2a73fed3b4714a7db0011f06b2a09853",
            "f4ce3dd5d48a443681c7fdddd0ab3bae",
            "40ea3f3fe0b042f38188860cc485d1e8",
            "56c01d2de66944d785094fb58873d5d3",
            "6ba834b77f0c4b09a07f164b78edfd6f",
            "2e397ac384734f72a73ccfdbd871cf0f",
            "d951b92ee9554310b7c999f2695cbab4",
            "f083353c084843d09aad9578a93b4232",
            "a72a45f4fe424be1934e835afadbda8a"
          ]
        },
        "id": "kp7sl4-SHYLQ",
        "outputId": "f3c42ea4-ed9c-46c5-f93b-d6daa26e6481"
      },
      "execution_count": 15,
      "outputs": [
        {
          "output_type": "display_data",
          "data": {
            "text/plain": [
              "  0%|          | 0/1 [00:00<?, ?it/s]"
            ],
            "application/vnd.jupyter.widget-view+json": {
              "version_major": 2,
              "version_minor": 0,
              "model_id": "1b6777cdb68843bc9368831216427a8c"
            }
          },
          "metadata": {}
        },
        {
          "output_type": "execute_result",
          "data": {
            "text/plain": [
              "Dataset({\n",
              "    features: ['Titles', 'Date&Time', 'Images_URL', 'Article_links', 'Article_conetent', 'text', 'embeddings'],\n",
              "    num_rows: 20\n",
              "})"
            ]
          },
          "metadata": {},
          "execution_count": 15
        }
      ]
    },
    {
      "cell_type": "code",
      "source": [
        "question = input(\"Search:\")\n",
        "question_embedding = get_embeddings([question]).numpy()\n",
        "# question_embedding.shape\n",
        "question_embedding\n",
        "# embeddings_dataset"
      ],
      "metadata": {
        "colab": {
          "base_uri": "https://localhost:8080/"
        },
        "id": "-aKW7MKgHgbs",
        "outputId": "9b8b15c6-26f1-4c1b-cd9d-924d2128e197"
      },
      "execution_count": 35,
      "outputs": [
        {
          "name": "stdout",
          "output_type": "stream",
          "text": [
            "Search:https://medium.com/i-taught-the-law/why-should...\n"
          ]
        },
        {
          "output_type": "execute_result",
          "data": {
            "text/plain": [
              "array([[ 1.74297929e-01, -7.42525831e-02, -3.49798203e-01,\n",
              "        -1.93209782e-01,  5.91971166e-02,  1.64664447e-01,\n",
              "         5.73514044e-01, -1.72044896e-02, -1.74832106e-01,\n",
              "        -4.64584157e-02,  2.65787721e-01, -3.27996910e-04,\n",
              "        -1.16459444e-01, -2.47404456e-01,  1.84394166e-01,\n",
              "        -1.52583361e-01, -8.91584605e-02, -1.12524323e-01,\n",
              "         1.09764338e-01, -1.41406432e-02,  1.59024239e-01,\n",
              "        -5.12523875e-02, -2.82459736e-01, -2.32064575e-02,\n",
              "        -9.86819118e-02, -5.66371251e-03, -1.94411367e-01,\n",
              "         2.54693776e-01, -2.38133520e-01,  1.57080531e-01,\n",
              "         2.44731218e-01,  4.50671524e-01, -1.92898080e-01,\n",
              "         2.72307456e-01, -9.96271774e-05, -1.05062366e-01,\n",
              "         1.69029325e-01, -4.90277112e-02, -5.71030416e-02,\n",
              "         1.50283977e-01, -1.26317814e-01, -2.05716610e-01,\n",
              "        -4.29711610e-01, -6.32224679e-02, -3.43595833e-01,\n",
              "         2.03450784e-01,  2.63794828e-02, -9.14791673e-02,\n",
              "         1.20999768e-01,  8.08043480e-02,  3.32165718e-01,\n",
              "        -3.25791776e-01,  2.11784467e-01, -2.43024528e-01,\n",
              "         3.45986336e-02,  3.57109047e-02,  1.46333128e-02,\n",
              "         3.74732375e-01,  2.16639340e-01,  8.44321102e-02,\n",
              "         7.37871900e-02,  1.94138676e-01, -1.97037116e-01,\n",
              "        -2.45464712e-01,  1.53970033e-01, -6.10321224e-01,\n",
              "         1.57763660e-01,  1.18088953e-01,  2.19793305e-01,\n",
              "         9.75609645e-02,  4.61462200e-01, -1.65860131e-01,\n",
              "         6.61657006e-02,  6.02411777e-02,  3.87098998e-01,\n",
              "         1.94660246e-01, -1.80719882e-01,  2.89808333e-01,\n",
              "         1.22255519e-01,  1.97693646e-01, -5.09325080e-02,\n",
              "        -7.67653435e-02, -2.35430688e-01,  3.40514451e-01,\n",
              "        -2.93724179e-01,  3.16844612e-01, -3.82117987e-01,\n",
              "        -8.50818604e-02, -1.92663446e-02,  1.86831117e-01,\n",
              "         4.19759184e-01,  2.94899493e-02,  2.12654963e-01,\n",
              "         1.97227359e-01,  3.13530654e-01,  6.07411116e-02,\n",
              "         7.44472444e-02,  1.06427699e-01,  1.91589952e-01,\n",
              "         4.39006761e-02, -7.43373036e-02,  1.43359423e-01,\n",
              "         1.24670893e-01,  6.17016740e-02, -1.18368573e-01,\n",
              "         8.84184837e-02,  1.62046850e-01,  2.85667628e-01,\n",
              "         4.99049127e-02,  1.89703822e-01, -2.11345643e-01,\n",
              "         1.91987813e-01, -2.07193941e-02,  4.88234684e-03,\n",
              "        -4.90547091e-01,  3.00681293e-01,  8.64927918e-02,\n",
              "        -2.02229381e-01, -3.06885213e-01,  1.24243021e-01,\n",
              "        -4.45690572e-01, -3.07570130e-01,  7.46681616e-02,\n",
              "         1.25271082e-01,  1.10219315e-01,  2.66848594e-01,\n",
              "        -2.06196949e-01,  5.82804047e-02,  1.35403275e-01,\n",
              "        -1.10948771e-01, -2.10385650e-01,  2.84811616e-01,\n",
              "        -1.79879561e-01,  3.49191502e-02, -1.35397777e-01,\n",
              "         9.54225361e-02,  1.11514300e-01, -3.00139934e-03,\n",
              "        -2.22191840e-01, -3.43659550e-01, -9.98079777e-02,\n",
              "        -8.41604471e-02,  2.11439386e-01,  3.66649777e-02,\n",
              "        -3.35283697e-01, -3.43283117e-01,  8.21857303e-02,\n",
              "        -6.61084801e-03, -7.33578205e-03,  2.71886706e-01,\n",
              "        -6.25917539e-02, -4.05058682e-01,  4.90671918e-02,\n",
              "         3.33445013e-01, -7.61394799e-02, -4.82186228e-02,\n",
              "         2.07027674e-01,  2.41059288e-01, -9.35065821e-02,\n",
              "         1.40776098e-01,  2.98373997e-01,  1.84294969e-01,\n",
              "         1.21838406e-01, -4.07858565e-02,  7.76630044e-02,\n",
              "         1.66743517e-01, -4.39900607e-02,  1.94990188e-02,\n",
              "        -4.04436439e-01,  1.21710271e-01,  1.60857290e-01,\n",
              "         9.77247730e-02, -2.24749297e-01,  4.84633952e-01,\n",
              "        -9.48403627e-02,  5.02841771e-02,  1.92110628e-01,\n",
              "        -3.19380879e-01, -2.30921477e-01,  1.22452542e-01,\n",
              "        -4.37582731e-02, -1.48643583e-01,  1.44732371e-01,\n",
              "         1.18613392e-01, -1.44005448e-01, -1.84172839e-01,\n",
              "        -2.29595564e-02,  1.49527609e-01, -3.36084515e-02,\n",
              "        -9.17466581e-02, -3.61754984e-01, -8.09336007e-02,\n",
              "        -9.17671770e-02,  1.70148984e-01, -1.02494523e-01,\n",
              "        -2.77286559e-01,  4.61654551e-02,  8.15618783e-03,\n",
              "         4.35144126e-01, -1.37540832e-01, -1.83308244e-01,\n",
              "        -2.09058821e-02,  3.19369882e-01,  2.01085865e-01,\n",
              "        -1.90237939e-01, -8.27623680e-02, -5.94909973e-02,\n",
              "        -2.47920901e-01,  4.20137197e-01,  3.00735146e-01,\n",
              "         3.00686717e-01,  1.04720891e-03, -2.69597024e-01,\n",
              "        -6.46573976e-02, -2.23426551e-01, -3.55038613e-01,\n",
              "         3.20865810e-01,  1.56109743e-02, -1.35104544e-02,\n",
              "        -5.49793169e-02, -1.10397637e-02, -3.80286813e-01,\n",
              "        -3.58968496e-01,  7.03968033e-02,  8.00524652e-03,\n",
              "        -2.68373013e-01, -3.66341099e-02,  2.90271580e-01,\n",
              "        -9.20418501e-02,  3.22799236e-01,  3.04745018e-01,\n",
              "        -9.30263698e-02,  1.24857783e-01,  7.14615360e-02,\n",
              "        -8.53380114e-02,  3.15711468e-01,  6.31973743e-02,\n",
              "         1.40772477e-01,  9.53652859e-02, -5.73926330e-01,\n",
              "         2.02812001e-01, -1.04036629e-01, -9.39892679e-02,\n",
              "         1.06613860e-01, -7.80981258e-02,  3.28108370e-01,\n",
              "         5.20981193e-01, -4.89069708e-02, -1.62417352e-01,\n",
              "        -6.74426705e-02, -2.79749155e-01,  6.39913529e-02,\n",
              "        -2.45200545e-01, -2.97546029e-01, -4.27691974e-02,\n",
              "         2.50071794e-01, -1.08449236e-02, -7.05983192e-02,\n",
              "         3.49665999e-01,  1.89365327e-01, -9.06286389e-02,\n",
              "        -4.11401272e-01,  2.55736381e-01,  1.61129492e-03,\n",
              "        -2.97037065e-02, -6.94803819e-02, -2.67018285e-02,\n",
              "         2.25682005e-01,  2.77501494e-02,  2.10180163e-01,\n",
              "         9.32841823e-02, -1.14970133e-01,  1.10484138e-02,\n",
              "        -4.36478078e-01,  4.44086678e-02,  2.63676226e-01,\n",
              "        -6.89140335e-03, -1.38095200e-01, -1.66299138e-02,\n",
              "         1.88522533e-01, -2.89398253e-01, -2.32734546e-01,\n",
              "        -1.51494890e-01, -5.20394892e-02, -1.52007222e-01,\n",
              "         5.25132269e-02,  6.01139888e-02,  6.46119490e-02,\n",
              "         2.90068835e-01, -1.02998637e-01,  1.35192871e-01,\n",
              "        -2.87486821e-01,  9.82135236e-02,  2.78901253e-02,\n",
              "        -3.60665441e-01, -8.36736411e-02, -2.26731464e-01,\n",
              "         4.41269964e-01,  9.61098820e-03,  3.13727111e-01,\n",
              "        -5.87450191e-02, -2.26004243e-01,  4.68475670e-02,\n",
              "         3.17963213e-01,  2.28515565e-01, -3.04570079e-01,\n",
              "         5.02508223e-01, -6.58651963e-02, -1.98839590e-01,\n",
              "        -1.78017586e-01, -6.05795741e-01,  1.21164486e-01,\n",
              "        -1.51165277e-01,  2.07520366e-01,  2.43234053e-01,\n",
              "         2.46163495e-02, -4.18095946e-01,  1.33398563e-01,\n",
              "         3.74670997e-02, -1.45465344e-01,  1.06588982e-01,\n",
              "        -3.81725341e-01, -6.63507134e-02,  1.14716411e-01,\n",
              "        -3.93213965e-02, -9.54828635e-02, -1.04897991e-02,\n",
              "        -3.52752745e-01,  5.75557470e-01, -5.04580699e-02,\n",
              "        -1.61546230e-01, -8.75932574e-02, -5.04818708e-02,\n",
              "         1.53590694e-01,  1.54181302e-01,  5.24745524e-01,\n",
              "        -3.66263717e-01, -2.57789224e-01,  2.66776569e-02,\n",
              "        -1.61741022e-02, -7.06224889e-02, -2.55078763e-01,\n",
              "         5.28623164e-02,  1.76102892e-02, -2.44155079e-01,\n",
              "        -2.80101717e-01, -2.19527394e-01,  2.14948088e-01,\n",
              "         2.45152712e-02, -9.97490287e-02, -1.16938092e-01,\n",
              "        -1.42243162e-01, -3.97019461e-02, -3.05658519e-01,\n",
              "        -1.63573846e-02,  2.00711936e-01, -3.64600867e-03,\n",
              "        -1.70444369e-01, -1.17593646e-01, -1.02365702e-01,\n",
              "         4.26812991e-02,  2.34778821e-02,  5.57626307e-01,\n",
              "        -2.23661363e-01,  1.14649951e-01, -1.00502670e-01,\n",
              "         4.26641911e-01,  1.74624771e-02,  1.02573931e-01,\n",
              "         9.56726223e-02,  2.26286158e-01,  1.95570379e-01,\n",
              "        -3.62353437e-02,  1.39015228e-01,  5.18407486e-02,\n",
              "         1.72536075e-01,  2.87049562e-02, -1.36506692e-01,\n",
              "        -5.22006229e-02, -2.62139022e-01,  1.37968361e-01,\n",
              "        -4.45286602e-01,  3.25586498e-01, -7.33395666e-02,\n",
              "        -4.47306335e-02,  1.90930054e-01, -1.23533443e-01,\n",
              "         1.82026938e-01,  3.82646203e-01,  3.31143618e-01,\n",
              "        -7.04035908e-02,  6.24262840e-02, -5.48600592e-02,\n",
              "        -3.54214869e-02,  6.49911463e-02,  7.87732005e-02,\n",
              "         9.33113545e-02, -2.37726673e-01, -3.01041335e-01,\n",
              "         2.31984839e-01,  5.95083572e-02,  3.85675967e-01,\n",
              "         1.67024061e-01,  1.21495882e-02,  6.85986578e-02,\n",
              "         8.41963887e-02,  1.03416897e-01,  7.07313418e-03,\n",
              "        -4.18272078e-01, -1.34762257e-01, -6.93532676e-02,\n",
              "         2.60464013e-01, -1.01067722e-01,  5.08276187e-02,\n",
              "         8.59138668e-02, -2.66369730e-01,  1.40711948e-01,\n",
              "        -3.84622276e-01,  2.28561252e-01, -3.10861826e-01,\n",
              "        -3.95622015e-01,  2.95441747e-01,  4.20649230e-01,\n",
              "        -2.30128497e-01, -2.20345795e-01, -1.08994581e-01,\n",
              "         3.50456983e-02, -2.76308730e-02,  3.05394918e-01,\n",
              "        -3.30670506e-01, -4.26665917e-02,  9.71743613e-02,\n",
              "        -2.40829319e-01, -9.16940868e-02, -8.99368003e-02,\n",
              "         1.23291805e-01, -1.27381340e-01,  2.67817587e-01,\n",
              "         3.66744459e-01,  1.81690902e-01,  2.06394807e-01,\n",
              "         5.67571782e-02,  3.87326598e-01,  1.24787942e-01,\n",
              "         2.34473288e-01,  5.15360296e-01,  2.34690413e-01,\n",
              "        -1.65883340e-02, -7.17017576e-02, -1.53137878e-01,\n",
              "        -4.26813215e-03,  1.22761279e-01, -2.81422824e-01,\n",
              "         2.39662584e-02, -8.35108683e-02, -2.31431127e-02,\n",
              "        -1.59976602e-01,  8.17328691e-05, -1.53188184e-01,\n",
              "        -2.19418094e-01,  2.76084185e-01,  1.11240959e+00,\n",
              "         4.00253862e-01,  1.64124191e-01,  2.32272103e-01,\n",
              "        -6.93160444e-02,  6.40638694e-02, -2.02783152e-01,\n",
              "         5.83409220e-02, -1.58153474e-04, -1.12796530e-01,\n",
              "        -8.74044299e-02, -1.45998001e-01,  6.13351986e-02,\n",
              "         7.70167261e-02,  4.30242568e-02, -7.93725699e-02,\n",
              "        -1.29796490e-02, -5.15457429e-02,  3.43935281e-01,\n",
              "        -8.94348100e-02, -3.76906335e-01,  2.45209247e-01,\n",
              "        -3.02575022e-01,  3.24104130e-01,  1.88212901e-01,\n",
              "        -9.37143341e-02,  1.83874257e-02, -1.23557620e-01,\n",
              "        -7.55094141e-02,  2.64456362e-01, -2.50926197e-01,\n",
              "        -1.91302121e-01, -2.81522900e-01,  4.25517142e-01,\n",
              "        -7.84010440e-02, -2.94677883e-01,  2.26266295e-01,\n",
              "        -1.41429558e-01,  1.33405626e-01,  6.20478466e-02,\n",
              "        -2.07440615e-01,  3.01906705e-01,  2.88512707e-01,\n",
              "        -1.74781755e-01, -3.47695611e-02, -8.86877105e-02,\n",
              "         4.40795571e-01, -2.81152874e-01, -1.44898131e-01,\n",
              "         1.18204467e-01, -1.55571207e-01, -1.59815133e-01,\n",
              "        -5.52392840e-01, -4.32207547e-02,  4.50520009e-01,\n",
              "         3.92661430e-02, -1.65022716e-01,  1.79224640e-01,\n",
              "        -2.53231525e-01, -1.75294101e-01,  3.24038237e-01,\n",
              "         2.22474158e-01, -4.12335545e-02, -2.87264973e-01,\n",
              "         1.20998845e-01, -1.39029920e-01, -1.03867136e-01,\n",
              "         1.73927754e-01,  9.99467447e-02,  1.07455254e-03,\n",
              "         3.55523974e-02,  1.92005917e-01, -2.81957567e-01,\n",
              "        -3.56858671e-01, -3.38103399e-02,  1.26578473e-02,\n",
              "         5.15890419e-02,  1.35855928e-01, -1.22602627e-01,\n",
              "        -1.60604417e-01,  1.30799115e-02, -5.33634797e-03,\n",
              "         1.11845776e-01, -9.85067040e-02, -4.13510382e-01,\n",
              "        -2.08626866e-01,  9.93431211e-02,  4.15941142e-02,\n",
              "         3.39775831e-02,  1.72282398e-01,  1.32642403e-01,\n",
              "         3.35793287e-01,  1.71543121e-01, -7.14487284e-02,\n",
              "        -5.22863925e-01, -2.03052670e-01,  3.70059237e-02,\n",
              "        -9.96884108e-02,  1.42045975e-01, -1.76994532e-01,\n",
              "        -1.98763609e-01,  7.17851073e-02,  3.27357978e-01,\n",
              "         8.47390145e-02,  8.32021981e-02, -4.85750914e-01,\n",
              "         5.98893538e-02,  7.67109096e-02,  1.75186157e-01,\n",
              "         9.25974622e-02,  7.65694231e-02, -9.69383568e-02,\n",
              "         2.95855887e-02,  2.71624863e-01,  1.56173363e-01,\n",
              "        -3.94789398e-01,  3.58021796e-01,  1.73472181e-01,\n",
              "        -4.10482347e-01,  2.08952382e-01,  1.42055184e-01,\n",
              "        -1.84263557e-01, -2.16763005e-01, -1.27643302e-01,\n",
              "         1.84156969e-01, -1.63637280e-01,  5.06914146e-02,\n",
              "        -1.87639177e-01, -9.97891873e-02,  2.32387453e-01,\n",
              "         5.04281223e-01,  2.74442077e-01,  5.97836338e-02,\n",
              "        -9.46609303e-02, -1.77684978e-01, -6.31339103e-02,\n",
              "        -2.32663363e-01,  1.03377618e-01, -4.49375033e-01,\n",
              "        -1.92514330e-01,  7.73563981e-04,  4.34708923e-01,\n",
              "        -6.92734942e-02,  1.35062575e-01, -4.97594714e-01,\n",
              "        -4.58620399e-01,  1.93143561e-01,  7.37226978e-02,\n",
              "        -1.85514674e-01, -1.67826265e-01, -2.80647814e-01,\n",
              "         2.79690742e-01,  1.55248836e-01, -1.24946125e-01,\n",
              "         3.93291935e-02,  4.26216945e-02, -2.13943884e-01,\n",
              "         2.30156794e-01, -1.42679483e-01, -3.35062928e-02,\n",
              "         1.41979501e-01,  1.58959031e-02,  4.10877585e-01,\n",
              "         2.64467686e-01,  1.22139767e-01,  4.83658075e-01,\n",
              "         3.46943021e-01,  2.53737032e-01,  4.76202995e-01,\n",
              "         2.64971942e-01, -5.90849407e-02, -7.31350705e-02,\n",
              "        -1.06639490e-01,  3.63289982e-01, -3.15680876e-02,\n",
              "        -1.93426594e-01, -1.92580149e-02,  7.14161173e-02,\n",
              "        -7.61899203e-02, -1.43817291e-02, -4.41344261e-01,\n",
              "        -1.49145722e-04, -4.39992547e-03, -1.03784069e-01,\n",
              "        -9.79860127e-02,  1.66003913e-01, -2.48915136e-01,\n",
              "        -1.45880312e-01, -1.76984534e-01, -1.53988361e-01,\n",
              "         1.14555135e-01,  8.65023956e-02,  3.61546904e-01,\n",
              "        -1.17662668e-01,  1.76761866e-01, -1.65664464e-01,\n",
              "        -1.49491131e-02, -2.61903834e-02,  8.67696851e-03,\n",
              "         2.40528524e-01, -4.80989926e-02,  1.68858021e-01,\n",
              "        -1.52527779e-01,  9.64143425e-02, -2.91062027e-01,\n",
              "        -2.77631432e-02, -6.15463592e-03,  3.51678193e-01,\n",
              "        -4.15401682e-02,  1.35359764e-01,  4.05458242e-01,\n",
              "        -2.87355423e-01,  1.11254573e-01,  3.35538328e-01,\n",
              "        -2.30663288e-02,  4.63399105e-02, -1.17636904e-01,\n",
              "         1.72301028e-02, -2.50954211e-01, -6.39389232e-02,\n",
              "         2.91826785e-01, -1.65858805e-01, -1.42954201e-01,\n",
              "         1.88832581e-01, -2.07319379e-01,  9.75072682e-02,\n",
              "        -5.60715199e-02,  1.69524759e-01,  2.26999596e-01,\n",
              "         1.34250522e-01,  9.07815248e-02, -1.38898611e-01,\n",
              "        -1.07094884e-01, -2.32055187e-01, -1.09398402e-01,\n",
              "         1.61346585e-01,  3.42548132e-01, -2.00842805e-02,\n",
              "        -1.38053134e-01, -3.46646786e-01,  4.12277102e-01,\n",
              "        -1.62827298e-02, -4.14630622e-02, -2.52465960e-02,\n",
              "        -2.24710368e-02, -2.68928498e-01, -4.26497906e-02,\n",
              "         3.28539371e-01,  5.37807569e-02,  1.71981975e-01,\n",
              "         2.90814668e-01, -8.81390870e-02,  1.90323889e-02,\n",
              "         1.31729975e-01,  1.93205982e-01,  1.85864680e-02,\n",
              "        -1.90326944e-02, -1.40627593e-01,  4.38546211e-01,\n",
              "        -4.45172824e-02,  1.51575189e-02,  1.53942302e-01,\n",
              "        -9.53384787e-02, -2.07022905e-01, -8.07488635e-02,\n",
              "         2.83585072e-01,  1.29128173e-01,  5.42062104e-01,\n",
              "        -1.23454958e-01, -3.56603265e-01,  1.37937874e-01,\n",
              "        -9.37373638e-02,  2.62377262e-01,  2.61157393e-01,\n",
              "         3.00158173e-01,  1.34489685e-01, -4.12566990e-01,\n",
              "        -2.61284076e-02, -1.09165654e-01, -6.86673075e-02,\n",
              "        -2.51818061e-01, -6.48846552e-02,  5.79918213e-02,\n",
              "        -3.54208469e-01,  2.16154754e-03, -3.43493849e-01,\n",
              "         9.96602774e-02,  6.25577569e-02,  1.16893709e-01,\n",
              "         1.13521412e-01,  2.25085646e-01,  1.11477539e-01,\n",
              "         3.60912681e-01, -5.18732071e-01, -4.53358963e-02,\n",
              "         3.59283566e-01, -9.82497185e-02, -8.78143683e-02,\n",
              "         4.28594410e-01,  1.05064884e-01, -8.59980583e-02,\n",
              "        -4.26460057e-03, -9.53825265e-02, -1.08424127e-01,\n",
              "        -3.54967207e-01, -1.10767961e-01, -6.21906817e-02]], dtype=float32)"
            ]
          },
          "metadata": {},
          "execution_count": 35
        }
      ]
    },
    {
      "cell_type": "code",
      "source": [
        "scores, samples = embeddings_dataset.get_nearest_examples(\n",
        "    \"embeddings\", question_embedding, k=5\n",
        ")\n",
        "   "
      ],
      "metadata": {
        "id": "0wgRcNSYHniy"
      },
      "execution_count": 17,
      "outputs": []
    },
    {
      "cell_type": "code",
      "source": [
        "import pandas as pd\n",
        "\n",
        "samples_df = pd.DataFrame.from_dict(samples)\n",
        "samples_df[\"scores\"] = scores\n",
        "samples_df.sort_values(\"scores\", ascending=False, inplace=True)"
      ],
      "metadata": {
        "id": "-0oceelgHuos"
      },
      "execution_count": 18,
      "outputs": []
    },
    {
      "cell_type": "code",
      "source": [
        "for _, data in samples_df.iterrows():\n",
        "    print(\"~\" * 200)\n",
        "    print(f\"Titles: {data.text}\\nArticle conetent: {data.Article_conetent}\\nArticle links: {data.Article_links}\")\n",
        "    print(\"~\" * 200)\n",
        "    "
      ],
      "metadata": {
        "id": "tlLOiZEZHzRq"
      },
      "execution_count": null,
      "outputs": []
    },
    {
      "cell_type": "markdown",
      "source": [
        "# **Implementation with Faiss:(IndexIVFPQ + HNSW) on Scraping team data.**"
      ],
      "metadata": {
        "id": "v4bA_OC8zQ-i"
      }
    },
    {
      "cell_type": "code",
      "source": [
        "xb=embedding.numpy()[:700]\n",
        "xq=question_embedding\n",
        "print(xb.shape)\n",
        "xq.shape\n"
      ],
      "metadata": {
        "id": "wUL5msta0Ddm",
        "colab": {
          "base_uri": "https://localhost:8080/"
        },
        "outputId": "c9cc93fd-4563-4218-e09e-9ea869f8bc4e"
      },
      "execution_count": 38,
      "outputs": [
        {
          "output_type": "stream",
          "name": "stdout",
          "text": [
            "(309, 768)\n"
          ]
        },
        {
          "output_type": "execute_result",
          "data": {
            "text/plain": [
              "(1, 768)"
            ]
          },
          "metadata": {},
          "execution_count": 38
        }
      ]
    },
    {
      "cell_type": "code",
      "source": [
        "import faiss\n",
        "d = xb.shape[1]      \n",
        "M = 2       \n",
        "k=5\n",
        "index = faiss.IndexHNSWFlat(d, M)            \n",
        "index.hnsw.efConstruction = 40         \n",
        "index.add(xb)                  \n",
        "Dis, I = index.search(xq,k)"
      ],
      "metadata": {
        "id": "Eax2HvEOyipi"
      },
      "execution_count": 39,
      "outputs": []
    },
    {
      "cell_type": "code",
      "source": [
        "print(Dis)\n",
        "print(I)"
      ],
      "metadata": {
        "colab": {
          "base_uri": "https://localhost:8080/"
        },
        "id": "sqIloPVz0h3-",
        "outputId": "66d2a8b0-bbdf-4e36-e9ae-0740d716b6f8"
      },
      "execution_count": 40,
      "outputs": [
        {
          "output_type": "stream",
          "name": "stdout",
          "text": [
            "[[28.014862 28.192406 31.965117 32.191536 33.89283 ]]\n",
            "[[225  80 302   3 212]]\n"
          ]
        }
      ]
    },
    {
      "cell_type": "code",
      "source": [
        "index.is_trained"
      ],
      "metadata": {
        "colab": {
          "base_uri": "https://localhost:8080/"
        },
        "id": "M9aXhfEVLKyM",
        "outputId": "4e374c8e-37fd-4a6d-b326-33694667c48c"
      },
      "execution_count": 23,
      "outputs": [
        {
          "output_type": "execute_result",
          "data": {
            "text/plain": [
              "True"
            ]
          },
          "metadata": {},
          "execution_count": 23
        }
      ]
    },
    {
      "cell_type": "code",
      "source": [
        "import faiss\n",
        "d = xb.shape[1]        \n",
        "M = 64        \n",
        "nlist = xb.shape[0] \n",
        "nsegment = 64  \n",
        "nbit = 8     \n",
        "k=50\n",
        "\n",
        "coarse_quantizer = faiss.IndexHNSWFlat(d, M)\n",
        "index = faiss.IndexIVFPQ(coarse_quantizer, d, nlist, nsegment, nbit)      \n",
        "\n",
        "\n"
      ],
      "metadata": {
        "id": "YKnrmcbaJ8E1"
      },
      "execution_count": 41,
      "outputs": []
    },
    {
      "cell_type": "code",
      "source": [
        "index.is_trained"
      ],
      "metadata": {
        "colab": {
          "base_uri": "https://localhost:8080/"
        },
        "id": "ark9RY6sQnfF",
        "outputId": "9148faea-58e2-4d82-df36-07ad51c14de5"
      },
      "execution_count": 42,
      "outputs": [
        {
          "output_type": "execute_result",
          "data": {
            "text/plain": [
              "False"
            ]
          },
          "metadata": {},
          "execution_count": 42
        }
      ]
    },
    {
      "cell_type": "code",
      "source": [
        "index.train(xb)\n",
        "\n"
      ],
      "metadata": {
        "id": "TGSg1qT0Qd24"
      },
      "execution_count": null,
      "outputs": []
    },
    {
      "cell_type": "code",
      "source": [
        "index.nprobe = 30 "
      ],
      "metadata": {
        "id": "uRNnAIHGyU5P"
      },
      "execution_count": 54,
      "outputs": []
    },
    {
      "cell_type": "code",
      "source": [
        "Dist, I = index.search(xq, k)"
      ],
      "metadata": {
        "id": "hbYglol1ycbN"
      },
      "execution_count": 55,
      "outputs": []
    },
    {
      "cell_type": "code",
      "source": [
        "Dis"
      ],
      "metadata": {
        "colab": {
          "base_uri": "https://localhost:8080/"
        },
        "id": "6i5J2pFHyrA_",
        "outputId": "8fa13831-fc28-4eb0-cd87-668ba0168b8b"
      },
      "execution_count": 56,
      "outputs": [
        {
          "output_type": "execute_result",
          "data": {
            "text/plain": [
              "array([[28.014862, 28.192406, 31.965117, 32.191536, 33.89283 ]],\n",
              "      dtype=float32)"
            ]
          },
          "metadata": {},
          "execution_count": 56
        }
      ]
    }
  ]
}