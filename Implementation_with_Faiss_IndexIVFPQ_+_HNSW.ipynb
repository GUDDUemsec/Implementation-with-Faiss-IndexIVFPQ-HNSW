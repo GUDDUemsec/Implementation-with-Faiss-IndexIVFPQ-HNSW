{
  "nbformat": 4,
  "nbformat_minor": 0,
  "metadata": {
    "colab": {
      "provenance": [],
      "authorship_tag": "ABX9TyNQi0Wg06S0KKl22qasoA8q",
      "include_colab_link": true
    },
    "kernelspec": {
      "name": "python3",
      "display_name": "Python 3"
    },
    "language_info": {
      "name": "python"
    }
  },
  "cells": [
    {
      "cell_type": "markdown",
      "metadata": {
        "id": "view-in-github",
        "colab_type": "text"
      },
      "source": [
        "<a href=\"https://colab.research.google.com/github/GUDDUemsec/Implementation-with-Faiss-IndexIVFPQ-HNSW/blob/main/Implementation_with_Faiss_IndexIVFPQ_%2B_HNSW.ipynb\" target=\"_parent\"><img src=\"https://colab.research.google.com/assets/colab-badge.svg\" alt=\"Open In Colab\"/></a>"
      ]
    },
    {
      "cell_type": "markdown",
      "source": [
        "# **Read Vector Data** "
      ],
      "metadata": {
        "id": "egzZtnn4Sy1U"
      }
    },
    {
      "cell_type": "code",
      "source": [
        "import shutil\n",
        "import urllib.request as request\n",
        "from contextlib import closing\n",
        "\n",
        "# first we download the Sift1M dataset\n",
        "with closing(request.urlopen('ftp://ftp.irisa.fr/local/texmex/corpus/sift.tar.gz')) as r:\n",
        "    with open('sift.tar.gz', 'wb') as f:\n",
        "        shutil.copyfileobj(r, f)"
      ],
      "metadata": {
        "id": "qqAtwm12P1AZ"
      },
      "execution_count": 1,
      "outputs": []
    },
    {
      "cell_type": "code",
      "source": [
        "import tarfile\n",
        "\n",
        "# the download leaves us with a tar.gz file, we unzip it\n",
        "tar = tarfile.open('sift.tar.gz', \"r:gz\")\n",
        "tar.extractall()\n",
        "tar"
      ],
      "metadata": {
        "colab": {
          "base_uri": "https://localhost:8080/"
        },
        "id": "kksV-jYAP9ZD",
        "outputId": "cc52781c-6cbb-4b05-b643-7447e1208d08"
      },
      "execution_count": 2,
      "outputs": [
        {
          "output_type": "execute_result",
          "data": {
            "text/plain": [
              "<tarfile.TarFile at 0x7f689026cfa0>"
            ]
          },
          "metadata": {},
          "execution_count": 2
        }
      ]
    },
    {
      "cell_type": "code",
      "source": [
        "import numpy as np\n",
        "\n",
        "# now define a function to read the fvecs file format of Sift1M dataset\n",
        "def read_fvecs(fp):\n",
        "    a = np.fromfile(fp, dtype='int32')\n",
        "    d = a[0]\n",
        "    return a.reshape(-1, d + 1)[:, 1:].copy().view('float32')\n",
        "# data we will search through\n",
        "xb = read_fvecs('./sift/sift_base.fvecs')[:500]\n",
        "xp = read_fvecs('./sift/sift_base.fvecs')[500:700]  # 1M samples\n",
        "# also get some query vectors to search with\n",
        "xq = read_fvecs('./sift/sift_query.fvecs')\n",
        "# take just one query (there are many in sift_learn.fvecs)\n",
        "xq = xq[0].reshape(1, xq.shape[1])"
      ],
      "metadata": {
        "id": "q9VzORmKQumf"
      },
      "execution_count": 6,
      "outputs": []
    },
    {
      "cell_type": "code",
      "source": [
        "xq"
      ],
      "metadata": {
        "colab": {
          "base_uri": "https://localhost:8080/"
        },
        "id": "onA-coW2RJto",
        "outputId": "14fb46e3-808a-41cb-8f40-4e2dc2e3aa01"
      },
      "execution_count": 4,
      "outputs": [
        {
          "output_type": "execute_result",
          "data": {
            "text/plain": [
              "array([[  1.,   3.,  11., 110.,  62.,  22.,   4.,   0.,  43.,  21.,  22.,\n",
              "         18.,   6.,  28.,  64.,   9.,  11.,   1.,   0.,   0.,   1.,  40.,\n",
              "        101.,  21.,  20.,   2.,   4.,   2.,   2.,   9.,  18.,  35.,   1.,\n",
              "          1.,   7.,  25., 108., 116.,  63.,   2.,   0.,   0.,  11.,  74.,\n",
              "         40., 101., 116.,   3.,  33.,   1.,   1.,  11.,  14.,  18., 116.,\n",
              "        116.,  68.,  12.,   5.,   4.,   2.,   2.,   9., 102.,  17.,   3.,\n",
              "         10.,  18.,   8.,  15.,  67.,  63.,  15.,   0.,  14., 116.,  80.,\n",
              "          0.,   2.,  22.,  96.,  37.,  28.,  88.,  43.,   1.,   4.,  18.,\n",
              "        116.,  51.,   5.,  11.,  32.,  14.,   8.,  23.,  44.,  17.,  12.,\n",
              "          9.,   0.,   0.,  19.,  37.,  85.,  18.,  16., 104.,  22.,   6.,\n",
              "          2.,  26.,  12.,  58.,  67.,  82.,  25.,  12.,   2.,   2.,  25.,\n",
              "         18.,   8.,   2.,  19.,  42.,  48.,  11.]], dtype=float32)"
            ]
          },
          "metadata": {},
          "execution_count": 4
        }
      ]
    },
    {
      "cell_type": "code",
      "source": [
        "a=xb.shape[0]\n",
        "a"
      ],
      "metadata": {
        "colab": {
          "base_uri": "https://localhost:8080/"
        },
        "id": "Pdra59M-RQDp",
        "outputId": "4c8a1567-6a0d-4e2d-ff1c-ff525ad94ad9"
      },
      "execution_count": 3,
      "outputs": [
        {
          "output_type": "execute_result",
          "data": {
            "text/plain": [
              "500"
            ]
          },
          "metadata": {},
          "execution_count": 3
        }
      ]
    },
    {
      "cell_type": "code",
      "source": [
        "import numpy as np\n",
        "\n",
        "\n",
        "def fvecs_read(filename, c_contiguous=True):\n",
        "    fv = np.fromfile(filename, dtype=np.float32)\n",
        "    if fv.size == 0:\n",
        "        return np.zeros((0, 0))\n",
        "    dim = fv.view(np.int32)[0]\n",
        "    assert dim > 0\n",
        "    fv = fv.reshape(-1, 1 + dim)\n",
        "    if not all(fv.view(np.int32)[:, 0] == dim):\n",
        "        raise IOError(\"Non-uniform vector sizes in \" + filename)\n",
        "    fv = fv[:, 1:]\n",
        "    if c_contiguous:\n",
        "        fv = fv.copy()\n",
        "    return fv"
      ],
      "metadata": {
        "id": "AAq9qfBVRwy3"
      },
      "execution_count": 6,
      "outputs": []
    },
    {
      "cell_type": "code",
      "source": [
        "fvecs_read('./sift/sift_base.fvecs',c_contiguous=True)"
      ],
      "metadata": {
        "colab": {
          "base_uri": "https://localhost:8080/"
        },
        "id": "yyAP-h_ORz_b",
        "outputId": "ff397e22-6eae-47fb-a0ed-25016da24099"
      },
      "execution_count": 7,
      "outputs": [
        {
          "output_type": "execute_result",
          "data": {
            "text/plain": [
              "array([[  0.,  16.,  35., ...,  25.,  23.,   1.],\n",
              "       [ 14.,  35.,  19., ...,  11.,  21.,  33.],\n",
              "       [  0.,   1.,   5., ...,   4.,  23.,  10.],\n",
              "       ...,\n",
              "       [ 30.,  12.,  12., ...,  50.,  10.,   0.],\n",
              "       [  0.,   5.,  12., ...,   1.,   2.,  13.],\n",
              "       [114.,  31.,   0., ...,  25.,  16.,   0.]], dtype=float32)"
            ]
          },
          "metadata": {},
          "execution_count": 7
        }
      ]
    },
    {
      "cell_type": "code",
      "source": [
        "!pip install faiss-cpu"
      ],
      "metadata": {
        "id": "LOVWcT-6lM4C",
        "outputId": "634360b6-9e2e-4521-ccd9-bc6db0199638",
        "colab": {
          "base_uri": "https://localhost:8080/"
        }
      },
      "execution_count": 8,
      "outputs": [
        {
          "output_type": "stream",
          "name": "stdout",
          "text": [
            "Looking in indexes: https://pypi.org/simple, https://us-python.pkg.dev/colab-wheels/public/simple/\n",
            "Requirement already satisfied: faiss-cpu in /usr/local/lib/python3.8/dist-packages (1.7.3)\n"
          ]
        }
      ]
    },
    {
      "cell_type": "markdown",
      "source": [
        "# **Implementation with Faiss: IndexIVFPQ + HNSW**"
      ],
      "metadata": {
        "id": "7TjK5cwGSeEX"
      }
    },
    {
      "cell_type": "code",
      "source": [
        "import faiss\n",
        "d = xb.shape[1]        \n",
        "M = 8         \n",
        "nlist = xb.shape[0]  \n",
        "nsegment = 16  \n",
        "nbit = 8       \n",
        "k=10\n",
        "coarse_quantizer = faiss.IndexHNSWFlat(d, M)\n",
        "index = faiss.IndexIVFPQ(coarse_quantizer, d, nlist, nsegment, nbit)      \n",
        "\n"
      ],
      "metadata": {
        "id": "ETcUEkjak8ea"
      },
      "execution_count": 5,
      "outputs": []
    },
    {
      "cell_type": "code",
      "source": [
        "index.is_trained"
      ],
      "metadata": {
        "colab": {
          "base_uri": "https://localhost:8080/"
        },
        "id": "J52ayl-uK7M9",
        "outputId": "3355cc15-409c-48ca-f733-41209ca5a683"
      },
      "execution_count": 7,
      "outputs": [
        {
          "output_type": "execute_result",
          "data": {
            "text/plain": [
              "False"
            ]
          },
          "metadata": {},
          "execution_count": 7
        }
      ]
    },
    {
      "cell_type": "code",
      "source": [
        "index.train(xb)"
      ],
      "metadata": {
        "id": "pfwaZ6nOLUYF"
      },
      "execution_count": 8,
      "outputs": []
    },
    {
      "cell_type": "code",
      "source": [
        "index.add(xb)  "
      ],
      "metadata": {
        "id": "d1Li0tmzLgsN"
      },
      "execution_count": 9,
      "outputs": []
    },
    {
      "cell_type": "code",
      "source": [
        "index.nprobe = 5     \n",
        "D, I = index.search(xq, k)  "
      ],
      "metadata": {
        "id": "WyktCUzHK3XY"
      },
      "execution_count": 10,
      "outputs": []
    },
    {
      "cell_type": "code",
      "source": [
        "D"
      ],
      "metadata": {
        "colab": {
          "base_uri": "https://localhost:8080/"
        },
        "id": "Mmn42ztrRI4o",
        "outputId": "22d7ffe3-a7e0-4301-96b3-d32a179ce396"
      },
      "execution_count": 11,
      "outputs": [
        {
          "output_type": "execute_result",
          "data": {
            "text/plain": [
              "array([[8.5812000e+04, 9.8494000e+04, 9.8910000e+04, 1.0359000e+05,\n",
              "        1.0662100e+05, 3.4028235e+38, 3.4028235e+38, 3.4028235e+38,\n",
              "        3.4028235e+38, 3.4028235e+38]], dtype=float32)"
            ]
          },
          "metadata": {},
          "execution_count": 11
        }
      ]
    },
    {
      "cell_type": "markdown",
      "source": [
        "# **Implementation with Faiss: IndexHNSWFlat**"
      ],
      "metadata": {
        "id": "2CB1gQQBRa4m"
      }
    },
    {
      "cell_type": "code",
      "source": [
        "import faiss\n",
        "d = xb.shape[1]      \n",
        "M = 32       \n",
        "k=20\n",
        "index = faiss.IndexHNSWFlat(d, M)            \n",
        "index.hnsw.efConstruction = 40         \n",
        "index.add(xb)                  \n",
        "Dis, I = index.search(xq, k) "
      ],
      "metadata": {
        "id": "zbguI6yMmvco"
      },
      "execution_count": 12,
      "outputs": []
    },
    {
      "cell_type": "code",
      "source": [
        "Dis"
      ],
      "metadata": {
        "colab": {
          "base_uri": "https://localhost:8080/"
        },
        "id": "u5Ums01rtCSb",
        "outputId": "3070ef93-62e6-40de-dad9-e933c60ebfda"
      },
      "execution_count": 13,
      "outputs": [
        {
          "output_type": "execute_result",
          "data": {
            "text/plain": [
              "array([[ 85812.,  98494.,  98910., 103590., 106621., 106803., 111889.,\n",
              "        112211., 113230., 116449., 117906., 117968., 118334., 119525.,\n",
              "        121834., 122188., 122880., 123308., 124210., 124576.]],\n",
              "      dtype=float32)"
            ]
          },
          "metadata": {},
          "execution_count": 13
        }
      ]
    },
    {
      "cell_type": "code",
      "source": [
        "I"
      ],
      "metadata": {
        "colab": {
          "base_uri": "https://localhost:8080/"
        },
        "id": "eid7v6WttX7B",
        "outputId": "d740b542-f896-4a3f-8144-b4ac5abf19d6"
      },
      "execution_count": 14,
      "outputs": [
        {
          "output_type": "execute_result",
          "data": {
            "text/plain": [
              "array([[190, 224, 292, 492, 146, 107, 370, 121, 124, 287, 123,  97, 420,\n",
              "        149, 348, 106, 286, 396, 145, 174]])"
            ]
          },
          "metadata": {},
          "execution_count": 14
        }
      ]
    }
  ]
}